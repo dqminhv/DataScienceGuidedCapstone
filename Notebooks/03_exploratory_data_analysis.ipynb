{
  "cells": [
    {
      "cell_type": "markdown",
      "metadata": {
        "id": "view-in-github",
        "colab_type": "text"
      },
      "source": [
        "<a href=\"https://colab.research.google.com/github/dqminhv/DataScienceGuidedCapstone/blob/master/Notebooks/03_exploratory_data_analysis.ipynb\" target=\"_parent\"><img src=\"https://colab.research.google.com/assets/colab-badge.svg\" alt=\"Open In Colab\"/></a>"
      ]
    },
    {
      "cell_type": "markdown",
      "metadata": {
        "id": "XnuAqev4AZBS"
      },
      "source": [
        "# 3 Exploratory Data Analysis<a id='3_Exploratory_Data_Analysis'></a>"
      ]
    },
    {
      "cell_type": "markdown",
      "metadata": {
        "id": "cLIIPl7UAZBV"
      },
      "source": [
        "## 3.1 Contents<a id='3.1_Contents'></a>\n",
        "* [3 Exploratory Data Analysis](#3_Exploratory_Data_Analysis)\n",
        "  * [3.1 Contents](#3.1_Contents)\n",
        "  * [3.2 Introduction](#3.2_Introduction)\n",
        "  * [3.3 Imports](#3.3_Imports)\n",
        "  * [3.4 Load The Data](#3.4_Load_The_Data)\n",
        "    * [3.4.1 Ski data](#3.4.1_Ski_data)\n",
        "    * [3.4.2 State-wide summary data](#3.4.2_State-wide_summary_data)\n",
        "  * [3.5 Explore The Data](#3.5_Explore_The_Data)\n",
        "    * [3.5.1 Top States By Order Of Each Of The Summary Statistics](#3.5.1_Top_States_By_Order_Of_Each_Of_The_Summary_Statistics)\n",
        "      * [3.5.1.1 Total state area](#3.5.1.1_Total_state_area)\n",
        "      * [3.5.1.2 Total state population](#3.5.1.2_Total_state_population)\n",
        "      * [3.5.1.3 Resorts per state](#3.5.1.3_Resorts_per_state)\n",
        "      * [3.5.1.4 Total skiable area](#3.5.1.4_Total_skiable_area)\n",
        "      * [3.5.1.5 Total night skiing area](#3.5.1.5_Total_night_skiing_area)\n",
        "      * [3.5.1.6 Total days open](#3.5.1.6_Total_days_open)\n",
        "    * [3.5.2 Resort density](#3.5.2_Resort_density)\n",
        "      * [3.5.2.1 Top states by resort density](#3.5.2.1_Top_states_by_resort_density)\n",
        "    * [3.5.3 Visualizing High Dimensional Data](#3.5.3_Visualizing_High_Dimensional_Data)\n",
        "      * [3.5.3.1 Scale the data](#3.5.3.1_Scale_the_data)\n",
        "        * [3.5.3.1.1 Verifying the scaling](#3.5.3.1.1_Verifying_the_scaling)\n",
        "      * [3.5.3.2 Calculate the PCA transformation](#3.5.3.2_Calculate_the_PCA_transformation)\n",
        "      * [3.5.3.3 Average ticket price by state](#3.5.3.3_Average_ticket_price_by_state)\n",
        "      * [3.5.3.4 Adding average ticket price to scatter plot](#3.5.3.4_Adding_average_ticket_price_to_scatter_plot)\n",
        "    * [3.5.4 Conclusion On How To Handle State Label](#3.5.4_Conclusion_On_How_To_Handle_State_Label)\n",
        "    * [3.5.5 Ski Resort Numeric Data](#3.5.5_Ski_Resort_Numeric_Data)\n",
        "      * [3.5.5.1 Feature engineering](#3.5.5.1_Feature_engineering)\n",
        "      * [3.5.5.2 Feature correlation heatmap](#3.5.5.2_Feature_correlation_heatmap)\n",
        "      * [3.5.5.3 Scatterplots of numeric features against ticket price](#3.5.5.3_Scatterplots_of_numeric_features_against_ticket_price)\n",
        "  * [3.6 Summary](#3.6_Summary)\n"
      ]
    },
    {
      "cell_type": "markdown",
      "metadata": {
        "id": "w0dA7k-lAZBX"
      },
      "source": [
        "## 3.2 Introduction<a id='3.2_Introduction'></a>"
      ]
    },
    {
      "cell_type": "markdown",
      "metadata": {
        "id": "D_vBjxrjAZBX"
      },
      "source": [
        "At this point, you should have a firm idea of what your data science problem is and have the data you believe could help solve it. The business problem was a general one of modeling resort revenue. The data you started with contained some ticket price values, but with a number of missing values that led to several rows being dropped completely. You also had two kinds of ticket price. There were also some obvious issues with some of the other features in the data that, for example, led to one column being completely dropped, a data error corrected, and some other rows dropped. You also obtained some additional US state population and size data with which to augment the dataset, which also required some cleaning.\n",
        "\n",
        "The data science problem you subsequently identified is to predict the adult weekend ticket price for ski resorts."
      ]
    },
    {
      "cell_type": "markdown",
      "metadata": {
        "id": "6JDF1v7NAZBY"
      },
      "source": [
        "## 3.3 Imports<a id='3.3_Imports'></a>"
      ]
    },
    {
      "cell_type": "code",
      "execution_count": 33,
      "metadata": {
        "execution": {
          "iopub.execute_input": "2020-10-07T07:04:19.124917Z",
          "iopub.status.busy": "2020-10-07T07:04:19.124711Z",
          "iopub.status.idle": "2020-10-07T07:04:19.128523Z",
          "shell.execute_reply": "2020-10-07T07:04:19.128112Z",
          "shell.execute_reply.started": "2020-10-07T07:04:19.124888Z"
        },
        "id": "Y1cNrqokAZBZ"
      },
      "outputs": [],
      "source": [
        "import pandas as pd\n",
        "import numpy as np\n",
        "import os\n",
        "import matplotlib.pyplot as plt\n",
        "import seaborn as sns\n",
        "from sklearn.decomposition import PCA\n",
        "from sklearn.preprocessing import scale\n",
        "\n",
        "#from library.sb_utils import save_file"
      ]
    },
    {
      "cell_type": "markdown",
      "metadata": {
        "id": "NK5KCcGAAZBb"
      },
      "source": [
        "## 3.4 Load The Data<a id='3.4_Load_The_Data'></a>"
      ]
    },
    {
      "cell_type": "markdown",
      "metadata": {
        "id": "w9Xy52ooAZBb"
      },
      "source": [
        "### 3.4.1 Ski data<a id='3.4.1_Ski_data'></a>"
      ]
    },
    {
      "cell_type": "code",
      "execution_count": 34,
      "metadata": {
        "id": "KUerfY1zAZBc"
      },
      "outputs": [],
      "source": [
        "ski_data = pd.read_csv('https://raw.githubusercontent.com/dqminhv/DataScienceGuidedCapstone/master/cleaned_data/ski_data_cleaned.csv')"
      ]
    },
    {
      "cell_type": "code",
      "execution_count": 35,
      "metadata": {
        "id": "BNPDqBk4AZBc",
        "outputId": "f9add46e-f171-4605-d3b6-aca2b9cb5f73",
        "colab": {
          "base_uri": "https://localhost:8080/"
        }
      },
      "outputs": [
        {
          "output_type": "stream",
          "name": "stdout",
          "text": [
            "<class 'pandas.core.frame.DataFrame'>\n",
            "RangeIndex: 277 entries, 0 to 276\n",
            "Data columns (total 26 columns):\n",
            " #   Column             Non-Null Count  Dtype  \n",
            "---  ------             --------------  -----  \n",
            " 0   Unnamed: 0         277 non-null    int64  \n",
            " 1   Name               277 non-null    object \n",
            " 2   Region             277 non-null    object \n",
            " 3   state              277 non-null    object \n",
            " 4   summit_elev        277 non-null    int64  \n",
            " 5   vertical_drop      277 non-null    int64  \n",
            " 6   base_elev          277 non-null    int64  \n",
            " 7   trams              277 non-null    int64  \n",
            " 8   fastSixes          277 non-null    int64  \n",
            " 9   fastQuads          277 non-null    int64  \n",
            " 10  quad               277 non-null    int64  \n",
            " 11  triple             277 non-null    int64  \n",
            " 12  double             277 non-null    int64  \n",
            " 13  surface            277 non-null    int64  \n",
            " 14  total_chairs       277 non-null    int64  \n",
            " 15  Runs               274 non-null    float64\n",
            " 16  TerrainParks       233 non-null    float64\n",
            " 17  LongestRun_mi      272 non-null    float64\n",
            " 18  SkiableTerrain_ac  275 non-null    float64\n",
            " 19  Snow Making_ac     240 non-null    float64\n",
            " 20  daysOpenLastYear   233 non-null    float64\n",
            " 21  yearsOpen          277 non-null    float64\n",
            " 22  averageSnowfall    268 non-null    float64\n",
            " 23  AdultWeekend       277 non-null    float64\n",
            " 24  projectedDaysOpen  236 non-null    float64\n",
            " 25  NightSkiing_ac     163 non-null    float64\n",
            "dtypes: float64(11), int64(12), object(3)\n",
            "memory usage: 56.4+ KB\n"
          ]
        }
      ],
      "source": [
        "ski_data.info()"
      ]
    },
    {
      "cell_type": "code",
      "execution_count": 36,
      "metadata": {
        "id": "aQyyDSjuAZBe",
        "outputId": "ddebed96-c1d0-4dbb-f711-dfb8d0334cee",
        "colab": {
          "base_uri": "https://localhost:8080/",
          "height": 421
        }
      },
      "outputs": [
        {
          "output_type": "execute_result",
          "data": {
            "text/plain": [
              "   Unnamed: 0                 Name   Region    state  summit_elev  \\\n",
              "0           0       Alyeska Resort   Alaska   Alaska         3939   \n",
              "1           1  Eaglecrest Ski Area   Alaska   Alaska         2600   \n",
              "2           2     Hilltop Ski Area   Alaska   Alaska         2090   \n",
              "3           3     Arizona Snowbowl  Arizona  Arizona        11500   \n",
              "4           4  Sunrise Park Resort  Arizona  Arizona        11100   \n",
              "\n",
              "   vertical_drop  base_elev  trams  fastSixes  fastQuads  ...  TerrainParks  \\\n",
              "0           2500        250      1          0          2  ...           2.0   \n",
              "1           1540       1200      0          0          0  ...           1.0   \n",
              "2            294       1796      0          0          0  ...           1.0   \n",
              "3           2300       9200      0          1          0  ...           4.0   \n",
              "4           1800       9200      0          0          1  ...           2.0   \n",
              "\n",
              "   LongestRun_mi  SkiableTerrain_ac  Snow Making_ac  daysOpenLastYear  \\\n",
              "0            1.0             1610.0           113.0             150.0   \n",
              "1            2.0              640.0            60.0              45.0   \n",
              "2            1.0               30.0            30.0             150.0   \n",
              "3            2.0              777.0           104.0             122.0   \n",
              "4            1.2              800.0            80.0             115.0   \n",
              "\n",
              "   yearsOpen  averageSnowfall  AdultWeekend  projectedDaysOpen  NightSkiing_ac  \n",
              "0       60.0            669.0          85.0              150.0           550.0  \n",
              "1       44.0            350.0          53.0               90.0             NaN  \n",
              "2       36.0             69.0          34.0              152.0            30.0  \n",
              "3       81.0            260.0          89.0              122.0             NaN  \n",
              "4       49.0            250.0          78.0              104.0            80.0  \n",
              "\n",
              "[5 rows x 26 columns]"
            ],
            "text/html": [
              "\n",
              "  <div id=\"df-a8885382-82ae-4bc6-ac26-f972f8556d5c\">\n",
              "    <div class=\"colab-df-container\">\n",
              "      <div>\n",
              "<style scoped>\n",
              "    .dataframe tbody tr th:only-of-type {\n",
              "        vertical-align: middle;\n",
              "    }\n",
              "\n",
              "    .dataframe tbody tr th {\n",
              "        vertical-align: top;\n",
              "    }\n",
              "\n",
              "    .dataframe thead th {\n",
              "        text-align: right;\n",
              "    }\n",
              "</style>\n",
              "<table border=\"1\" class=\"dataframe\">\n",
              "  <thead>\n",
              "    <tr style=\"text-align: right;\">\n",
              "      <th></th>\n",
              "      <th>Unnamed: 0</th>\n",
              "      <th>Name</th>\n",
              "      <th>Region</th>\n",
              "      <th>state</th>\n",
              "      <th>summit_elev</th>\n",
              "      <th>vertical_drop</th>\n",
              "      <th>base_elev</th>\n",
              "      <th>trams</th>\n",
              "      <th>fastSixes</th>\n",
              "      <th>fastQuads</th>\n",
              "      <th>...</th>\n",
              "      <th>TerrainParks</th>\n",
              "      <th>LongestRun_mi</th>\n",
              "      <th>SkiableTerrain_ac</th>\n",
              "      <th>Snow Making_ac</th>\n",
              "      <th>daysOpenLastYear</th>\n",
              "      <th>yearsOpen</th>\n",
              "      <th>averageSnowfall</th>\n",
              "      <th>AdultWeekend</th>\n",
              "      <th>projectedDaysOpen</th>\n",
              "      <th>NightSkiing_ac</th>\n",
              "    </tr>\n",
              "  </thead>\n",
              "  <tbody>\n",
              "    <tr>\n",
              "      <th>0</th>\n",
              "      <td>0</td>\n",
              "      <td>Alyeska Resort</td>\n",
              "      <td>Alaska</td>\n",
              "      <td>Alaska</td>\n",
              "      <td>3939</td>\n",
              "      <td>2500</td>\n",
              "      <td>250</td>\n",
              "      <td>1</td>\n",
              "      <td>0</td>\n",
              "      <td>2</td>\n",
              "      <td>...</td>\n",
              "      <td>2.0</td>\n",
              "      <td>1.0</td>\n",
              "      <td>1610.0</td>\n",
              "      <td>113.0</td>\n",
              "      <td>150.0</td>\n",
              "      <td>60.0</td>\n",
              "      <td>669.0</td>\n",
              "      <td>85.0</td>\n",
              "      <td>150.0</td>\n",
              "      <td>550.0</td>\n",
              "    </tr>\n",
              "    <tr>\n",
              "      <th>1</th>\n",
              "      <td>1</td>\n",
              "      <td>Eaglecrest Ski Area</td>\n",
              "      <td>Alaska</td>\n",
              "      <td>Alaska</td>\n",
              "      <td>2600</td>\n",
              "      <td>1540</td>\n",
              "      <td>1200</td>\n",
              "      <td>0</td>\n",
              "      <td>0</td>\n",
              "      <td>0</td>\n",
              "      <td>...</td>\n",
              "      <td>1.0</td>\n",
              "      <td>2.0</td>\n",
              "      <td>640.0</td>\n",
              "      <td>60.0</td>\n",
              "      <td>45.0</td>\n",
              "      <td>44.0</td>\n",
              "      <td>350.0</td>\n",
              "      <td>53.0</td>\n",
              "      <td>90.0</td>\n",
              "      <td>NaN</td>\n",
              "    </tr>\n",
              "    <tr>\n",
              "      <th>2</th>\n",
              "      <td>2</td>\n",
              "      <td>Hilltop Ski Area</td>\n",
              "      <td>Alaska</td>\n",
              "      <td>Alaska</td>\n",
              "      <td>2090</td>\n",
              "      <td>294</td>\n",
              "      <td>1796</td>\n",
              "      <td>0</td>\n",
              "      <td>0</td>\n",
              "      <td>0</td>\n",
              "      <td>...</td>\n",
              "      <td>1.0</td>\n",
              "      <td>1.0</td>\n",
              "      <td>30.0</td>\n",
              "      <td>30.0</td>\n",
              "      <td>150.0</td>\n",
              "      <td>36.0</td>\n",
              "      <td>69.0</td>\n",
              "      <td>34.0</td>\n",
              "      <td>152.0</td>\n",
              "      <td>30.0</td>\n",
              "    </tr>\n",
              "    <tr>\n",
              "      <th>3</th>\n",
              "      <td>3</td>\n",
              "      <td>Arizona Snowbowl</td>\n",
              "      <td>Arizona</td>\n",
              "      <td>Arizona</td>\n",
              "      <td>11500</td>\n",
              "      <td>2300</td>\n",
              "      <td>9200</td>\n",
              "      <td>0</td>\n",
              "      <td>1</td>\n",
              "      <td>0</td>\n",
              "      <td>...</td>\n",
              "      <td>4.0</td>\n",
              "      <td>2.0</td>\n",
              "      <td>777.0</td>\n",
              "      <td>104.0</td>\n",
              "      <td>122.0</td>\n",
              "      <td>81.0</td>\n",
              "      <td>260.0</td>\n",
              "      <td>89.0</td>\n",
              "      <td>122.0</td>\n",
              "      <td>NaN</td>\n",
              "    </tr>\n",
              "    <tr>\n",
              "      <th>4</th>\n",
              "      <td>4</td>\n",
              "      <td>Sunrise Park Resort</td>\n",
              "      <td>Arizona</td>\n",
              "      <td>Arizona</td>\n",
              "      <td>11100</td>\n",
              "      <td>1800</td>\n",
              "      <td>9200</td>\n",
              "      <td>0</td>\n",
              "      <td>0</td>\n",
              "      <td>1</td>\n",
              "      <td>...</td>\n",
              "      <td>2.0</td>\n",
              "      <td>1.2</td>\n",
              "      <td>800.0</td>\n",
              "      <td>80.0</td>\n",
              "      <td>115.0</td>\n",
              "      <td>49.0</td>\n",
              "      <td>250.0</td>\n",
              "      <td>78.0</td>\n",
              "      <td>104.0</td>\n",
              "      <td>80.0</td>\n",
              "    </tr>\n",
              "  </tbody>\n",
              "</table>\n",
              "<p>5 rows × 26 columns</p>\n",
              "</div>\n",
              "      <button class=\"colab-df-convert\" onclick=\"convertToInteractive('df-a8885382-82ae-4bc6-ac26-f972f8556d5c')\"\n",
              "              title=\"Convert this dataframe to an interactive table.\"\n",
              "              style=\"display:none;\">\n",
              "        \n",
              "  <svg xmlns=\"http://www.w3.org/2000/svg\" height=\"24px\"viewBox=\"0 0 24 24\"\n",
              "       width=\"24px\">\n",
              "    <path d=\"M0 0h24v24H0V0z\" fill=\"none\"/>\n",
              "    <path d=\"M18.56 5.44l.94 2.06.94-2.06 2.06-.94-2.06-.94-.94-2.06-.94 2.06-2.06.94zm-11 1L8.5 8.5l.94-2.06 2.06-.94-2.06-.94L8.5 2.5l-.94 2.06-2.06.94zm10 10l.94 2.06.94-2.06 2.06-.94-2.06-.94-.94-2.06-.94 2.06-2.06.94z\"/><path d=\"M17.41 7.96l-1.37-1.37c-.4-.4-.92-.59-1.43-.59-.52 0-1.04.2-1.43.59L10.3 9.45l-7.72 7.72c-.78.78-.78 2.05 0 2.83L4 21.41c.39.39.9.59 1.41.59.51 0 1.02-.2 1.41-.59l7.78-7.78 2.81-2.81c.8-.78.8-2.07 0-2.86zM5.41 20L4 18.59l7.72-7.72 1.47 1.35L5.41 20z\"/>\n",
              "  </svg>\n",
              "      </button>\n",
              "      \n",
              "  <style>\n",
              "    .colab-df-container {\n",
              "      display:flex;\n",
              "      flex-wrap:wrap;\n",
              "      gap: 12px;\n",
              "    }\n",
              "\n",
              "    .colab-df-convert {\n",
              "      background-color: #E8F0FE;\n",
              "      border: none;\n",
              "      border-radius: 50%;\n",
              "      cursor: pointer;\n",
              "      display: none;\n",
              "      fill: #1967D2;\n",
              "      height: 32px;\n",
              "      padding: 0 0 0 0;\n",
              "      width: 32px;\n",
              "    }\n",
              "\n",
              "    .colab-df-convert:hover {\n",
              "      background-color: #E2EBFA;\n",
              "      box-shadow: 0px 1px 2px rgba(60, 64, 67, 0.3), 0px 1px 3px 1px rgba(60, 64, 67, 0.15);\n",
              "      fill: #174EA6;\n",
              "    }\n",
              "\n",
              "    [theme=dark] .colab-df-convert {\n",
              "      background-color: #3B4455;\n",
              "      fill: #D2E3FC;\n",
              "    }\n",
              "\n",
              "    [theme=dark] .colab-df-convert:hover {\n",
              "      background-color: #434B5C;\n",
              "      box-shadow: 0px 1px 3px 1px rgba(0, 0, 0, 0.15);\n",
              "      filter: drop-shadow(0px 1px 2px rgba(0, 0, 0, 0.3));\n",
              "      fill: #FFFFFF;\n",
              "    }\n",
              "  </style>\n",
              "\n",
              "      <script>\n",
              "        const buttonEl =\n",
              "          document.querySelector('#df-a8885382-82ae-4bc6-ac26-f972f8556d5c button.colab-df-convert');\n",
              "        buttonEl.style.display =\n",
              "          google.colab.kernel.accessAllowed ? 'block' : 'none';\n",
              "\n",
              "        async function convertToInteractive(key) {\n",
              "          const element = document.querySelector('#df-a8885382-82ae-4bc6-ac26-f972f8556d5c');\n",
              "          const dataTable =\n",
              "            await google.colab.kernel.invokeFunction('convertToInteractive',\n",
              "                                                     [key], {});\n",
              "          if (!dataTable) return;\n",
              "\n",
              "          const docLinkHtml = 'Like what you see? Visit the ' +\n",
              "            '<a target=\"_blank\" href=https://colab.research.google.com/notebooks/data_table.ipynb>data table notebook</a>'\n",
              "            + ' to learn more about interactive tables.';\n",
              "          element.innerHTML = '';\n",
              "          dataTable['output_type'] = 'display_data';\n",
              "          await google.colab.output.renderOutput(dataTable, element);\n",
              "          const docLink = document.createElement('div');\n",
              "          docLink.innerHTML = docLinkHtml;\n",
              "          element.appendChild(docLink);\n",
              "        }\n",
              "      </script>\n",
              "    </div>\n",
              "  </div>\n",
              "  "
            ]
          },
          "metadata": {},
          "execution_count": 36
        }
      ],
      "source": [
        "ski_data.head()"
      ]
    },
    {
      "cell_type": "markdown",
      "metadata": {
        "id": "txTwHsTvAZBf"
      },
      "source": [
        "### 3.4.2 State-wide summary data<a id='3.4.2_State-wide_summary_data'></a>"
      ]
    },
    {
      "cell_type": "code",
      "execution_count": 37,
      "metadata": {
        "id": "N2c17vDrAZBf"
      },
      "outputs": [],
      "source": [
        "state_summary = pd.read_csv('https://raw.githubusercontent.com/dqminhv/DataScienceGuidedCapstone/master/cleaned_data/state_summary.csv')"
      ]
    },
    {
      "cell_type": "code",
      "execution_count": 38,
      "metadata": {
        "id": "qrbmO4bcAZBg",
        "outputId": "b52069ec-a95e-43bb-a31b-ee40e29c04c7",
        "colab": {
          "base_uri": "https://localhost:8080/"
        }
      },
      "outputs": [
        {
          "output_type": "stream",
          "name": "stdout",
          "text": [
            "<class 'pandas.core.frame.DataFrame'>\n",
            "RangeIndex: 35 entries, 0 to 34\n",
            "Data columns (total 9 columns):\n",
            " #   Column                       Non-Null Count  Dtype  \n",
            "---  ------                       --------------  -----  \n",
            " 0   Unnamed: 0                   35 non-null     int64  \n",
            " 1   state                        35 non-null     object \n",
            " 2   resorts_per_state            35 non-null     int64  \n",
            " 3   state_total_skiable_area_ac  35 non-null     float64\n",
            " 4   state_total_days_open        35 non-null     float64\n",
            " 5   state_total_terrain_parks    35 non-null     float64\n",
            " 6   state_total_nightskiing_ac   35 non-null     float64\n",
            " 7   state_population             35 non-null     int64  \n",
            " 8   state_area_sq_mile           35 non-null     int64  \n",
            "dtypes: float64(4), int64(4), object(1)\n",
            "memory usage: 2.6+ KB\n"
          ]
        }
      ],
      "source": [
        "state_summary.info()"
      ]
    },
    {
      "cell_type": "code",
      "execution_count": 39,
      "metadata": {
        "scrolled": true,
        "id": "Rg8Eeny4AZBg",
        "outputId": "5f6e816b-193a-46b7-cc51-4527cf496078",
        "colab": {
          "base_uri": "https://localhost:8080/",
          "height": 250
        }
      },
      "outputs": [
        {
          "output_type": "execute_result",
          "data": {
            "text/plain": [
              "   Unnamed: 0        state  resorts_per_state  state_total_skiable_area_ac  \\\n",
              "0           0       Alaska                  3                       2280.0   \n",
              "1           1      Arizona                  2                       1577.0   \n",
              "2           2   California                 21                      25948.0   \n",
              "3           3     Colorado                 22                      43682.0   \n",
              "4           4  Connecticut                  5                        358.0   \n",
              "\n",
              "   state_total_days_open  state_total_terrain_parks  \\\n",
              "0                  345.0                        4.0   \n",
              "1                  237.0                        6.0   \n",
              "2                 2738.0                       81.0   \n",
              "3                 3258.0                       74.0   \n",
              "4                  353.0                       10.0   \n",
              "\n",
              "   state_total_nightskiing_ac  state_population  state_area_sq_mile  \n",
              "0                       580.0            731545              665384  \n",
              "1                        80.0           7278717              113990  \n",
              "2                       587.0          39512223              163695  \n",
              "3                       428.0           5758736              104094  \n",
              "4                       256.0           3565278                5543  "
            ],
            "text/html": [
              "\n",
              "  <div id=\"df-c01b6e6f-d6be-49b7-a94f-dd8def5126f6\">\n",
              "    <div class=\"colab-df-container\">\n",
              "      <div>\n",
              "<style scoped>\n",
              "    .dataframe tbody tr th:only-of-type {\n",
              "        vertical-align: middle;\n",
              "    }\n",
              "\n",
              "    .dataframe tbody tr th {\n",
              "        vertical-align: top;\n",
              "    }\n",
              "\n",
              "    .dataframe thead th {\n",
              "        text-align: right;\n",
              "    }\n",
              "</style>\n",
              "<table border=\"1\" class=\"dataframe\">\n",
              "  <thead>\n",
              "    <tr style=\"text-align: right;\">\n",
              "      <th></th>\n",
              "      <th>Unnamed: 0</th>\n",
              "      <th>state</th>\n",
              "      <th>resorts_per_state</th>\n",
              "      <th>state_total_skiable_area_ac</th>\n",
              "      <th>state_total_days_open</th>\n",
              "      <th>state_total_terrain_parks</th>\n",
              "      <th>state_total_nightskiing_ac</th>\n",
              "      <th>state_population</th>\n",
              "      <th>state_area_sq_mile</th>\n",
              "    </tr>\n",
              "  </thead>\n",
              "  <tbody>\n",
              "    <tr>\n",
              "      <th>0</th>\n",
              "      <td>0</td>\n",
              "      <td>Alaska</td>\n",
              "      <td>3</td>\n",
              "      <td>2280.0</td>\n",
              "      <td>345.0</td>\n",
              "      <td>4.0</td>\n",
              "      <td>580.0</td>\n",
              "      <td>731545</td>\n",
              "      <td>665384</td>\n",
              "    </tr>\n",
              "    <tr>\n",
              "      <th>1</th>\n",
              "      <td>1</td>\n",
              "      <td>Arizona</td>\n",
              "      <td>2</td>\n",
              "      <td>1577.0</td>\n",
              "      <td>237.0</td>\n",
              "      <td>6.0</td>\n",
              "      <td>80.0</td>\n",
              "      <td>7278717</td>\n",
              "      <td>113990</td>\n",
              "    </tr>\n",
              "    <tr>\n",
              "      <th>2</th>\n",
              "      <td>2</td>\n",
              "      <td>California</td>\n",
              "      <td>21</td>\n",
              "      <td>25948.0</td>\n",
              "      <td>2738.0</td>\n",
              "      <td>81.0</td>\n",
              "      <td>587.0</td>\n",
              "      <td>39512223</td>\n",
              "      <td>163695</td>\n",
              "    </tr>\n",
              "    <tr>\n",
              "      <th>3</th>\n",
              "      <td>3</td>\n",
              "      <td>Colorado</td>\n",
              "      <td>22</td>\n",
              "      <td>43682.0</td>\n",
              "      <td>3258.0</td>\n",
              "      <td>74.0</td>\n",
              "      <td>428.0</td>\n",
              "      <td>5758736</td>\n",
              "      <td>104094</td>\n",
              "    </tr>\n",
              "    <tr>\n",
              "      <th>4</th>\n",
              "      <td>4</td>\n",
              "      <td>Connecticut</td>\n",
              "      <td>5</td>\n",
              "      <td>358.0</td>\n",
              "      <td>353.0</td>\n",
              "      <td>10.0</td>\n",
              "      <td>256.0</td>\n",
              "      <td>3565278</td>\n",
              "      <td>5543</td>\n",
              "    </tr>\n",
              "  </tbody>\n",
              "</table>\n",
              "</div>\n",
              "      <button class=\"colab-df-convert\" onclick=\"convertToInteractive('df-c01b6e6f-d6be-49b7-a94f-dd8def5126f6')\"\n",
              "              title=\"Convert this dataframe to an interactive table.\"\n",
              "              style=\"display:none;\">\n",
              "        \n",
              "  <svg xmlns=\"http://www.w3.org/2000/svg\" height=\"24px\"viewBox=\"0 0 24 24\"\n",
              "       width=\"24px\">\n",
              "    <path d=\"M0 0h24v24H0V0z\" fill=\"none\"/>\n",
              "    <path d=\"M18.56 5.44l.94 2.06.94-2.06 2.06-.94-2.06-.94-.94-2.06-.94 2.06-2.06.94zm-11 1L8.5 8.5l.94-2.06 2.06-.94-2.06-.94L8.5 2.5l-.94 2.06-2.06.94zm10 10l.94 2.06.94-2.06 2.06-.94-2.06-.94-.94-2.06-.94 2.06-2.06.94z\"/><path d=\"M17.41 7.96l-1.37-1.37c-.4-.4-.92-.59-1.43-.59-.52 0-1.04.2-1.43.59L10.3 9.45l-7.72 7.72c-.78.78-.78 2.05 0 2.83L4 21.41c.39.39.9.59 1.41.59.51 0 1.02-.2 1.41-.59l7.78-7.78 2.81-2.81c.8-.78.8-2.07 0-2.86zM5.41 20L4 18.59l7.72-7.72 1.47 1.35L5.41 20z\"/>\n",
              "  </svg>\n",
              "      </button>\n",
              "      \n",
              "  <style>\n",
              "    .colab-df-container {\n",
              "      display:flex;\n",
              "      flex-wrap:wrap;\n",
              "      gap: 12px;\n",
              "    }\n",
              "\n",
              "    .colab-df-convert {\n",
              "      background-color: #E8F0FE;\n",
              "      border: none;\n",
              "      border-radius: 50%;\n",
              "      cursor: pointer;\n",
              "      display: none;\n",
              "      fill: #1967D2;\n",
              "      height: 32px;\n",
              "      padding: 0 0 0 0;\n",
              "      width: 32px;\n",
              "    }\n",
              "\n",
              "    .colab-df-convert:hover {\n",
              "      background-color: #E2EBFA;\n",
              "      box-shadow: 0px 1px 2px rgba(60, 64, 67, 0.3), 0px 1px 3px 1px rgba(60, 64, 67, 0.15);\n",
              "      fill: #174EA6;\n",
              "    }\n",
              "\n",
              "    [theme=dark] .colab-df-convert {\n",
              "      background-color: #3B4455;\n",
              "      fill: #D2E3FC;\n",
              "    }\n",
              "\n",
              "    [theme=dark] .colab-df-convert:hover {\n",
              "      background-color: #434B5C;\n",
              "      box-shadow: 0px 1px 3px 1px rgba(0, 0, 0, 0.15);\n",
              "      filter: drop-shadow(0px 1px 2px rgba(0, 0, 0, 0.3));\n",
              "      fill: #FFFFFF;\n",
              "    }\n",
              "  </style>\n",
              "\n",
              "      <script>\n",
              "        const buttonEl =\n",
              "          document.querySelector('#df-c01b6e6f-d6be-49b7-a94f-dd8def5126f6 button.colab-df-convert');\n",
              "        buttonEl.style.display =\n",
              "          google.colab.kernel.accessAllowed ? 'block' : 'none';\n",
              "\n",
              "        async function convertToInteractive(key) {\n",
              "          const element = document.querySelector('#df-c01b6e6f-d6be-49b7-a94f-dd8def5126f6');\n",
              "          const dataTable =\n",
              "            await google.colab.kernel.invokeFunction('convertToInteractive',\n",
              "                                                     [key], {});\n",
              "          if (!dataTable) return;\n",
              "\n",
              "          const docLinkHtml = 'Like what you see? Visit the ' +\n",
              "            '<a target=\"_blank\" href=https://colab.research.google.com/notebooks/data_table.ipynb>data table notebook</a>'\n",
              "            + ' to learn more about interactive tables.';\n",
              "          element.innerHTML = '';\n",
              "          dataTable['output_type'] = 'display_data';\n",
              "          await google.colab.output.renderOutput(dataTable, element);\n",
              "          const docLink = document.createElement('div');\n",
              "          docLink.innerHTML = docLinkHtml;\n",
              "          element.appendChild(docLink);\n",
              "        }\n",
              "      </script>\n",
              "    </div>\n",
              "  </div>\n",
              "  "
            ]
          },
          "metadata": {},
          "execution_count": 39
        }
      ],
      "source": [
        "state_summary.head()"
      ]
    },
    {
      "cell_type": "markdown",
      "metadata": {
        "id": "j4yGMRv7AZBh"
      },
      "source": [
        "## 3.5 Explore The Data<a id='3.5_Explore_The_Data'></a>"
      ]
    },
    {
      "cell_type": "markdown",
      "metadata": {
        "id": "5JD5awFvAZBh"
      },
      "source": [
        "### 3.5.1 Top States By Order Of Each Of The Summary Statistics<a id='3.5.1_Top_States_By_Order_Of_Each_Of_The_Summary_Statistics'></a>"
      ]
    },
    {
      "cell_type": "markdown",
      "metadata": {
        "id": "-rFUKy1VAZBi"
      },
      "source": [
        "What does the state-wide picture for your market look like?"
      ]
    },
    {
      "cell_type": "code",
      "execution_count": 40,
      "metadata": {
        "id": "8VOzS1rQAZBi"
      },
      "outputs": [],
      "source": [
        "state_summary_newind = state_summary.set_index('state')"
      ]
    },
    {
      "cell_type": "markdown",
      "metadata": {
        "id": "lFwQ62lsAZBj"
      },
      "source": [
        "#### 3.5.1.1 Total state area<a id='3.5.1.1_Total_state_area'></a>"
      ]
    },
    {
      "cell_type": "code",
      "execution_count": 41,
      "metadata": {
        "id": "NlhBjPtIAZBj",
        "outputId": "c0d36ed5-d84b-4d3e-89de-a2571f37fb8d",
        "colab": {
          "base_uri": "https://localhost:8080/"
        }
      },
      "outputs": [
        {
          "output_type": "execute_result",
          "data": {
            "text/plain": [
              "state\n",
              "Alaska        665384\n",
              "California    163695\n",
              "Montana       147040\n",
              "New Mexico    121590\n",
              "Arizona       113990\n",
              "Name: state_area_sq_mile, dtype: int64"
            ]
          },
          "metadata": {},
          "execution_count": 41
        }
      ],
      "source": [
        "state_summary_newind.state_area_sq_mile.sort_values(ascending=False).head()"
      ]
    },
    {
      "cell_type": "markdown",
      "metadata": {
        "id": "KU3A9fdnAZBk"
      },
      "source": [
        "Your home state, Montana, comes in at third largest."
      ]
    },
    {
      "cell_type": "markdown",
      "metadata": {
        "id": "lFcXEMmeAZBk"
      },
      "source": [
        "#### 3.5.1.2 Total state population<a id='3.5.1.2_Total_state_population'></a>"
      ]
    },
    {
      "cell_type": "code",
      "execution_count": 42,
      "metadata": {
        "id": "I7-KPAIcAZBl",
        "outputId": "9992cfc1-1949-4b11-e60b-d383fef4b277",
        "colab": {
          "base_uri": "https://localhost:8080/"
        }
      },
      "outputs": [
        {
          "output_type": "execute_result",
          "data": {
            "text/plain": [
              "state\n",
              "California      39512223\n",
              "New York        19453561\n",
              "Pennsylvania    12801989\n",
              "Illinois        12671821\n",
              "Ohio            11689100\n",
              "Name: state_population, dtype: int64"
            ]
          },
          "metadata": {},
          "execution_count": 42
        }
      ],
      "source": [
        "state_summary_newind.state_population.sort_values(ascending=False).head()"
      ]
    },
    {
      "cell_type": "markdown",
      "metadata": {
        "id": "rc5lKW64AZBl"
      },
      "source": [
        "California dominates the state population figures despite coming in second behind Alaska in size (by a long way). The resort's state of Montana was in the top five for size, but doesn't figure in the most populous states. Thus your state is less densely populated."
      ]
    },
    {
      "cell_type": "markdown",
      "metadata": {
        "id": "z85mEjUGAZBm"
      },
      "source": [
        "#### 3.5.1.3 Resorts per state<a id='3.5.1.3_Resorts_per_state'></a>"
      ]
    },
    {
      "cell_type": "code",
      "execution_count": 43,
      "metadata": {
        "id": "R4mpvRbhAZBm",
        "outputId": "10887bdb-5cce-435a-d489-8c8c0d59f375",
        "colab": {
          "base_uri": "https://localhost:8080/"
        }
      },
      "outputs": [
        {
          "output_type": "execute_result",
          "data": {
            "text/plain": [
              "state\n",
              "New York        33\n",
              "Michigan        28\n",
              "Colorado        22\n",
              "California      21\n",
              "Pennsylvania    19\n",
              "Name: resorts_per_state, dtype: int64"
            ]
          },
          "metadata": {},
          "execution_count": 43
        }
      ],
      "source": [
        "state_summary_newind.resorts_per_state.sort_values(ascending=False).head()"
      ]
    },
    {
      "cell_type": "markdown",
      "metadata": {
        "id": "I7zEcMsUAZBn"
      },
      "source": [
        "New York comes top in the number of resorts in our market. Is this because of its proximity to wealthy New Yorkers wanting a convenient skiing trip? Or is it simply that its northerly location means there are plenty of good locations for resorts in that state?"
      ]
    },
    {
      "cell_type": "markdown",
      "metadata": {
        "id": "Jthq92-bAZBn"
      },
      "source": [
        "#### 3.5.1.4 Total skiable area<a id='3.5.1.4_Total_skiable_area'></a>"
      ]
    },
    {
      "cell_type": "code",
      "execution_count": 44,
      "metadata": {
        "id": "66UnBprJAZBn",
        "outputId": "3c7c0b9b-2fed-4889-d56c-5509d84faf3b",
        "colab": {
          "base_uri": "https://localhost:8080/"
        }
      },
      "outputs": [
        {
          "output_type": "execute_result",
          "data": {
            "text/plain": [
              "state\n",
              "Colorado      43682.0\n",
              "Utah          30508.0\n",
              "California    25948.0\n",
              "Montana       21410.0\n",
              "Idaho         16396.0\n",
              "Name: state_total_skiable_area_ac, dtype: float64"
            ]
          },
          "metadata": {},
          "execution_count": 44
        }
      ],
      "source": [
        "state_summary_newind.state_total_skiable_area_ac.sort_values(ascending=False).head()"
      ]
    },
    {
      "cell_type": "markdown",
      "metadata": {
        "id": "qsYR-wwmAZBo"
      },
      "source": [
        "New York state may have the most resorts, but they don't account for the most skiing area. In fact, New York doesn't even make it into the top five of skiable area. Good old Montana makes it into the top five, though. You may start to think that New York has more, smaller resorts, whereas Montana has fewer, larger resorts. Colorado seems to have a name for skiing; it's in the top five for resorts and in top place for total skiable area."
      ]
    },
    {
      "cell_type": "markdown",
      "metadata": {
        "id": "gbsoW4LgAZBo"
      },
      "source": [
        "#### 3.5.1.5 Total night skiing area<a id='3.5.1.5_Total_night_skiing_area'></a>"
      ]
    },
    {
      "cell_type": "code",
      "execution_count": 45,
      "metadata": {
        "id": "pGIBpV7-AZBo",
        "outputId": "abd281cd-f044-4dbf-9bed-dc8a94bab718",
        "colab": {
          "base_uri": "https://localhost:8080/"
        }
      },
      "outputs": [
        {
          "output_type": "execute_result",
          "data": {
            "text/plain": [
              "state\n",
              "New York        2836.0\n",
              "Washington      1997.0\n",
              "Michigan        1946.0\n",
              "Pennsylvania    1528.0\n",
              "Oregon          1127.0\n",
              "Name: state_total_nightskiing_ac, dtype: float64"
            ]
          },
          "metadata": {},
          "execution_count": 45
        }
      ],
      "source": [
        "state_summary_newind.state_total_nightskiing_ac.sort_values(ascending=False).head()"
      ]
    },
    {
      "cell_type": "markdown",
      "metadata": {
        "id": "6sPhkD-NAZBp"
      },
      "source": [
        "New York dominates the area of skiing available at night. Looking at the top five in general, they are all the more northerly states. Is night skiing in and of itself an appeal to customers, or is a consequence of simply trying to extend the skiing day where days are shorter? Is New York's domination here because it's trying to maximize its appeal to visitors who'd travel a shorter distance for a shorter visit? You'll find the data generates more (good) questions rather than answering them. This is a positive sign! You might ask your executive sponsor or data provider for some additional data about typical length of stays at these resorts, although you might end up with data that is very granular and most likely proprietary to each resort. A useful level of granularity might be \"number of day tickets\" and \"number of weekly passes\" sold."
      ]
    },
    {
      "cell_type": "markdown",
      "metadata": {
        "id": "7NkEewtGAZBq"
      },
      "source": [
        "#### 3.5.1.6 Total days open<a id='3.5.1.6_Total_days_open'></a>"
      ]
    },
    {
      "cell_type": "code",
      "execution_count": 46,
      "metadata": {
        "id": "qo2x9wkqAZBq",
        "outputId": "36c5b4e2-8d70-4df7-cb7f-07167d89079b",
        "colab": {
          "base_uri": "https://localhost:8080/"
        }
      },
      "outputs": [
        {
          "output_type": "execute_result",
          "data": {
            "text/plain": [
              "state\n",
              "Colorado         3258.0\n",
              "California       2738.0\n",
              "Michigan         2389.0\n",
              "New York         2384.0\n",
              "New Hampshire    1847.0\n",
              "Name: state_total_days_open, dtype: float64"
            ]
          },
          "metadata": {},
          "execution_count": 46
        }
      ],
      "source": [
        "state_summary_newind.state_total_days_open.sort_values(ascending=False).head()"
      ]
    },
    {
      "cell_type": "markdown",
      "metadata": {
        "id": "4h3ti5K7AZBr"
      },
      "source": [
        "The total days open seem to bear some resemblance to the number of resorts. This is plausible. The season will only be so long, and so the more resorts open through the skiing season, the more total days open we'll see. New Hampshire makes a good effort at making it into the top five, for a small state that didn't make it into the top five of resorts per state. Does its location mean resorts there have a longer season and so stay open longer, despite there being fewer of them?"
      ]
    },
    {
      "cell_type": "markdown",
      "metadata": {
        "id": "fByifpvUAZBr"
      },
      "source": [
        "### 3.5.2 Resort density<a id='3.5.2_Resort_density'></a>"
      ]
    },
    {
      "cell_type": "markdown",
      "metadata": {
        "id": "bNvSQLaYAZBr"
      },
      "source": [
        "There are big states which are not necessarily the most populous. There are states that host many resorts, but other states host a larger total skiing area. The states with the most total days skiing per season are not necessarily those with the most resorts. And New York State boasts an especially large night skiing area. New York had the most resorts but wasn't in the top five largest states, so the reason for it having the most resorts can't be simply having lots of space for them. New York has the second largest population behind California. Perhaps many resorts have sprung up in New York because of the population size? Does this mean there is a high competition between resorts in New York State, fighting for customers and thus keeping prices down? You're not concerned, per se, with the absolute size or population of a state, but you could be interested in the ratio of resorts serving a given population or a given area.\n",
        "\n",
        "So, calculate those ratios! Think of them as measures of resort density, and drop the absolute population and state size columns."
      ]
    },
    {
      "cell_type": "code",
      "execution_count": 47,
      "metadata": {
        "id": "0wYH7sPsAZCB",
        "outputId": "8b33ded3-e753-4eb7-f6ad-f53945789686",
        "colab": {
          "base_uri": "https://localhost:8080/",
          "height": 288
        }
      },
      "outputs": [
        {
          "output_type": "execute_result",
          "data": {
            "text/plain": [
              "   Unnamed: 0        state  resorts_per_state  state_total_skiable_area_ac  \\\n",
              "0           0       Alaska                  3                       2280.0   \n",
              "1           1      Arizona                  2                       1577.0   \n",
              "2           2   California                 21                      25948.0   \n",
              "3           3     Colorado                 22                      43682.0   \n",
              "4           4  Connecticut                  5                        358.0   \n",
              "\n",
              "   state_total_days_open  state_total_terrain_parks  \\\n",
              "0                  345.0                        4.0   \n",
              "1                  237.0                        6.0   \n",
              "2                 2738.0                       81.0   \n",
              "3                 3258.0                       74.0   \n",
              "4                  353.0                       10.0   \n",
              "\n",
              "   state_total_nightskiing_ac  resorts_per_100kcapita  resorts_per_100ksq_mile  \n",
              "0                       580.0                0.410091                 0.450867  \n",
              "1                        80.0                0.027477                 1.754540  \n",
              "2                       587.0                0.053148                12.828736  \n",
              "3                       428.0                0.382028                21.134744  \n",
              "4                       256.0                0.140242                90.203861  "
            ],
            "text/html": [
              "\n",
              "  <div id=\"df-391e207a-2217-4d67-8ac1-a18c316bea0a\">\n",
              "    <div class=\"colab-df-container\">\n",
              "      <div>\n",
              "<style scoped>\n",
              "    .dataframe tbody tr th:only-of-type {\n",
              "        vertical-align: middle;\n",
              "    }\n",
              "\n",
              "    .dataframe tbody tr th {\n",
              "        vertical-align: top;\n",
              "    }\n",
              "\n",
              "    .dataframe thead th {\n",
              "        text-align: right;\n",
              "    }\n",
              "</style>\n",
              "<table border=\"1\" class=\"dataframe\">\n",
              "  <thead>\n",
              "    <tr style=\"text-align: right;\">\n",
              "      <th></th>\n",
              "      <th>Unnamed: 0</th>\n",
              "      <th>state</th>\n",
              "      <th>resorts_per_state</th>\n",
              "      <th>state_total_skiable_area_ac</th>\n",
              "      <th>state_total_days_open</th>\n",
              "      <th>state_total_terrain_parks</th>\n",
              "      <th>state_total_nightskiing_ac</th>\n",
              "      <th>resorts_per_100kcapita</th>\n",
              "      <th>resorts_per_100ksq_mile</th>\n",
              "    </tr>\n",
              "  </thead>\n",
              "  <tbody>\n",
              "    <tr>\n",
              "      <th>0</th>\n",
              "      <td>0</td>\n",
              "      <td>Alaska</td>\n",
              "      <td>3</td>\n",
              "      <td>2280.0</td>\n",
              "      <td>345.0</td>\n",
              "      <td>4.0</td>\n",
              "      <td>580.0</td>\n",
              "      <td>0.410091</td>\n",
              "      <td>0.450867</td>\n",
              "    </tr>\n",
              "    <tr>\n",
              "      <th>1</th>\n",
              "      <td>1</td>\n",
              "      <td>Arizona</td>\n",
              "      <td>2</td>\n",
              "      <td>1577.0</td>\n",
              "      <td>237.0</td>\n",
              "      <td>6.0</td>\n",
              "      <td>80.0</td>\n",
              "      <td>0.027477</td>\n",
              "      <td>1.754540</td>\n",
              "    </tr>\n",
              "    <tr>\n",
              "      <th>2</th>\n",
              "      <td>2</td>\n",
              "      <td>California</td>\n",
              "      <td>21</td>\n",
              "      <td>25948.0</td>\n",
              "      <td>2738.0</td>\n",
              "      <td>81.0</td>\n",
              "      <td>587.0</td>\n",
              "      <td>0.053148</td>\n",
              "      <td>12.828736</td>\n",
              "    </tr>\n",
              "    <tr>\n",
              "      <th>3</th>\n",
              "      <td>3</td>\n",
              "      <td>Colorado</td>\n",
              "      <td>22</td>\n",
              "      <td>43682.0</td>\n",
              "      <td>3258.0</td>\n",
              "      <td>74.0</td>\n",
              "      <td>428.0</td>\n",
              "      <td>0.382028</td>\n",
              "      <td>21.134744</td>\n",
              "    </tr>\n",
              "    <tr>\n",
              "      <th>4</th>\n",
              "      <td>4</td>\n",
              "      <td>Connecticut</td>\n",
              "      <td>5</td>\n",
              "      <td>358.0</td>\n",
              "      <td>353.0</td>\n",
              "      <td>10.0</td>\n",
              "      <td>256.0</td>\n",
              "      <td>0.140242</td>\n",
              "      <td>90.203861</td>\n",
              "    </tr>\n",
              "  </tbody>\n",
              "</table>\n",
              "</div>\n",
              "      <button class=\"colab-df-convert\" onclick=\"convertToInteractive('df-391e207a-2217-4d67-8ac1-a18c316bea0a')\"\n",
              "              title=\"Convert this dataframe to an interactive table.\"\n",
              "              style=\"display:none;\">\n",
              "        \n",
              "  <svg xmlns=\"http://www.w3.org/2000/svg\" height=\"24px\"viewBox=\"0 0 24 24\"\n",
              "       width=\"24px\">\n",
              "    <path d=\"M0 0h24v24H0V0z\" fill=\"none\"/>\n",
              "    <path d=\"M18.56 5.44l.94 2.06.94-2.06 2.06-.94-2.06-.94-.94-2.06-.94 2.06-2.06.94zm-11 1L8.5 8.5l.94-2.06 2.06-.94-2.06-.94L8.5 2.5l-.94 2.06-2.06.94zm10 10l.94 2.06.94-2.06 2.06-.94-2.06-.94-.94-2.06-.94 2.06-2.06.94z\"/><path d=\"M17.41 7.96l-1.37-1.37c-.4-.4-.92-.59-1.43-.59-.52 0-1.04.2-1.43.59L10.3 9.45l-7.72 7.72c-.78.78-.78 2.05 0 2.83L4 21.41c.39.39.9.59 1.41.59.51 0 1.02-.2 1.41-.59l7.78-7.78 2.81-2.81c.8-.78.8-2.07 0-2.86zM5.41 20L4 18.59l7.72-7.72 1.47 1.35L5.41 20z\"/>\n",
              "  </svg>\n",
              "      </button>\n",
              "      \n",
              "  <style>\n",
              "    .colab-df-container {\n",
              "      display:flex;\n",
              "      flex-wrap:wrap;\n",
              "      gap: 12px;\n",
              "    }\n",
              "\n",
              "    .colab-df-convert {\n",
              "      background-color: #E8F0FE;\n",
              "      border: none;\n",
              "      border-radius: 50%;\n",
              "      cursor: pointer;\n",
              "      display: none;\n",
              "      fill: #1967D2;\n",
              "      height: 32px;\n",
              "      padding: 0 0 0 0;\n",
              "      width: 32px;\n",
              "    }\n",
              "\n",
              "    .colab-df-convert:hover {\n",
              "      background-color: #E2EBFA;\n",
              "      box-shadow: 0px 1px 2px rgba(60, 64, 67, 0.3), 0px 1px 3px 1px rgba(60, 64, 67, 0.15);\n",
              "      fill: #174EA6;\n",
              "    }\n",
              "\n",
              "    [theme=dark] .colab-df-convert {\n",
              "      background-color: #3B4455;\n",
              "      fill: #D2E3FC;\n",
              "    }\n",
              "\n",
              "    [theme=dark] .colab-df-convert:hover {\n",
              "      background-color: #434B5C;\n",
              "      box-shadow: 0px 1px 3px 1px rgba(0, 0, 0, 0.15);\n",
              "      filter: drop-shadow(0px 1px 2px rgba(0, 0, 0, 0.3));\n",
              "      fill: #FFFFFF;\n",
              "    }\n",
              "  </style>\n",
              "\n",
              "      <script>\n",
              "        const buttonEl =\n",
              "          document.querySelector('#df-391e207a-2217-4d67-8ac1-a18c316bea0a button.colab-df-convert');\n",
              "        buttonEl.style.display =\n",
              "          google.colab.kernel.accessAllowed ? 'block' : 'none';\n",
              "\n",
              "        async function convertToInteractive(key) {\n",
              "          const element = document.querySelector('#df-391e207a-2217-4d67-8ac1-a18c316bea0a');\n",
              "          const dataTable =\n",
              "            await google.colab.kernel.invokeFunction('convertToInteractive',\n",
              "                                                     [key], {});\n",
              "          if (!dataTable) return;\n",
              "\n",
              "          const docLinkHtml = 'Like what you see? Visit the ' +\n",
              "            '<a target=\"_blank\" href=https://colab.research.google.com/notebooks/data_table.ipynb>data table notebook</a>'\n",
              "            + ' to learn more about interactive tables.';\n",
              "          element.innerHTML = '';\n",
              "          dataTable['output_type'] = 'display_data';\n",
              "          await google.colab.output.renderOutput(dataTable, element);\n",
              "          const docLink = document.createElement('div');\n",
              "          docLink.innerHTML = docLinkHtml;\n",
              "          element.appendChild(docLink);\n",
              "        }\n",
              "      </script>\n",
              "    </div>\n",
              "  </div>\n",
              "  "
            ]
          },
          "metadata": {},
          "execution_count": 47
        }
      ],
      "source": [
        "# The 100_000 scaling is simply based on eyeballing the magnitudes of the data\n",
        "state_summary['resorts_per_100kcapita'] = 100_000 * state_summary.resorts_per_state / state_summary.state_population\n",
        "state_summary['resorts_per_100ksq_mile'] = 100_000 * state_summary.resorts_per_state / state_summary.state_area_sq_mile\n",
        "state_summary.drop(columns=['state_population', 'state_area_sq_mile'], inplace=True)\n",
        "state_summary.head()"
      ]
    },
    {
      "cell_type": "markdown",
      "metadata": {
        "id": "0rNZ8sX1AZCB"
      },
      "source": [
        "With the removal of the two columns that only spoke to state-specific data, you now have a Dataframe that speaks to the skiing competitive landscape of each state. It has the number of resorts per state, total skiable area, and days of skiing. You've translated the plain state data into something more useful that gives you an idea of the density of resorts relative to the state population and size."
      ]
    },
    {
      "cell_type": "markdown",
      "metadata": {
        "id": "GDdq5oSyAZCC"
      },
      "source": [
        "How do the distributions of these two new features look?"
      ]
    },
    {
      "cell_type": "code",
      "execution_count": 48,
      "metadata": {
        "id": "m7Iit85eAZCC",
        "outputId": "f5c920be-7e8d-4ee3-8495-fd5a323f74f0",
        "colab": {
          "base_uri": "https://localhost:8080/",
          "height": 449
        }
      },
      "outputs": [
        {
          "output_type": "display_data",
          "data": {
            "text/plain": [
              "<Figure size 640x480 with 1 Axes>"
            ],
            "image/png": "[encoded data removed]"
          },
          "metadata": {}
        }
      ],
      "source": [
        "state_summary.resorts_per_100kcapita.hist(bins=30)\n",
        "plt.xlabel('Number of resorts per 100k population')\n",
        "plt.ylabel('count');"
      ]
    },
    {
      "cell_type": "code",
      "execution_count": 49,
      "metadata": {
        "id": "u9dlEGReAZCD",
        "outputId": "274f4344-dad8-43e5-97ec-0342b222aefd",
        "colab": {
          "base_uri": "https://localhost:8080/",
          "height": 449
        }
      },
      "outputs": [
        {
          "output_type": "display_data",
          "data": {
            "text/plain": [
              "<Figure size 640x480 with 1 Axes>"
            ],
            "image/png": "[encoded data removed]"
          },
          "metadata": {}
        }
      ],
      "source": [
        "state_summary.resorts_per_100ksq_mile.hist(bins=30)\n",
        "plt.xlabel('Number of resorts per 100k square miles')\n",
        "plt.ylabel('count');"
      ]
    },
    {
      "cell_type": "markdown",
      "metadata": {
        "id": "V2raPa4YAZCD"
      },
      "source": [
        "So they have quite some long tails on them, but there's definitely some structure there."
      ]
    },
    {
      "cell_type": "markdown",
      "metadata": {
        "id": "EZl3VTUHAZCE"
      },
      "source": [
        "#### 3.5.2.1 Top states by resort density<a id='3.5.2.1_Top_states_by_resort_density'></a>"
      ]
    },
    {
      "cell_type": "code",
      "execution_count": 50,
      "metadata": {
        "id": "gwVFLSQRAZCE",
        "outputId": "df11de34-49d3-4e69-99d7-d4b12f150c67",
        "colab": {
          "base_uri": "https://localhost:8080/"
        }
      },
      "outputs": [
        {
          "output_type": "execute_result",
          "data": {
            "text/plain": [
              "state\n",
              "Vermont          2.403889\n",
              "Wyoming          1.382268\n",
              "New Hampshire    1.176721\n",
              "Montana          1.122778\n",
              "Idaho            0.671492\n",
              "Name: resorts_per_100kcapita, dtype: float64"
            ]
          },
          "metadata": {},
          "execution_count": 50
        }
      ],
      "source": [
        "state_summary.set_index('state').resorts_per_100kcapita.sort_values(ascending=False).head()"
      ]
    },
    {
      "cell_type": "code",
      "execution_count": 51,
      "metadata": {
        "id": "EEdtyUWFAZCF",
        "outputId": "0e622948-2fbe-4a92-8c96-01d6a598295a",
        "colab": {
          "base_uri": "https://localhost:8080/"
        }
      },
      "outputs": [
        {
          "output_type": "execute_result",
          "data": {
            "text/plain": [
              "state\n",
              "New Hampshire    171.141299\n",
              "Vermont          155.990017\n",
              "Massachusetts    104.225886\n",
              "Connecticut       90.203861\n",
              "Rhode Island      64.724919\n",
              "Name: resorts_per_100ksq_mile, dtype: float64"
            ]
          },
          "metadata": {},
          "execution_count": 51
        }
      ],
      "source": [
        "state_summary.set_index('state').resorts_per_100ksq_mile.sort_values(ascending=False).head()"
      ]
    },
    {
      "cell_type": "markdown",
      "metadata": {
        "id": "yg2YJRxIAZCG"
      },
      "source": [
        "Vermont seems particularly high in terms of resorts per capita, and both New Hampshire and Vermont top the chart for resorts per area. New York doesn't appear in either!"
      ]
    },
    {
      "cell_type": "markdown",
      "metadata": {
        "id": "0A2yF7A6AZCG"
      },
      "source": [
        "### 3.5.3 Visualizing High Dimensional Data<a id='3.5.3_Visualizing_High_Dimensional_Data'></a>"
      ]
    },
    {
      "cell_type": "markdown",
      "metadata": {
        "id": "J5Uk2-8EAZCH"
      },
      "source": [
        "You may be starting to feel there's a bit of a problem here, or at least a challenge. You've constructed some potentially useful and business relevant features, derived from summary statistics, for each of the states you're concerned with. You've explored many of these features in turn and found various trends. Some states are higher in some but not in others. Some features will also be more correlated with one another than others.\n",
        "\n",
        "One way to disentangle this interconnected web of relationships is via [principle components analysis](https://scikit-learn.org/stable/modules/generated/sklearn.decomposition.PCA.html#sklearn.decomposition.PCA) (PCA). This technique will find linear combinations of the original features that are uncorrelated with one another and order them by the amount of variance they explain. You can use these derived features to visualize the data in a lower dimension (e.g. 2 down from 7) and know how much variance the representation explains. You can also explore how the original features contribute to these derived features."
      ]
    },
    {
      "cell_type": "markdown",
      "metadata": {
        "id": "dgHJ3s5tAZCI"
      },
      "source": [
        "The basic steps in this process are:\n",
        "\n",
        "1. scale the data (important here because our features are heterogenous)\n",
        "2. fit the PCA transformation (learn the transformation from the data)\n",
        "3. apply the transformation to the data to create the derived features\n",
        "4. (optionally) use the derived features to look for patterns in the data and explore the coefficients"
      ]
    },
    {
      "cell_type": "markdown",
      "metadata": {
        "id": "MfdRPbZVAZCI"
      },
      "source": [
        "#### 3.5.3.1 Scale the data<a id='3.5.3.1_Scale_the_data'></a>"
      ]
    },
    {
      "cell_type": "markdown",
      "metadata": {
        "id": "AQVPvKQ_AZCJ"
      },
      "source": [
        "You only want numeric data here, although you don't want to lose track of the state labels, so it's convenient to set the state as the index."
      ]
    },
    {
      "cell_type": "code",
      "execution_count": 52,
      "metadata": {
        "id": "ZSImcQy_AZCK",
        "colab": {
          "base_uri": "https://localhost:8080/",
          "height": 319
        },
        "outputId": "ca5b7633-8162-4ab5-f2d2-864d4d23bf8d"
      },
      "outputs": [
        {
          "output_type": "execute_result",
          "data": {
            "text/plain": [
              "             Unnamed: 0  resorts_per_state  state_total_skiable_area_ac  \\\n",
              "state                                                                     \n",
              "Alaska                0                  3                       2280.0   \n",
              "Arizona               1                  2                       1577.0   \n",
              "California            2                 21                      25948.0   \n",
              "Colorado              3                 22                      43682.0   \n",
              "Connecticut           4                  5                        358.0   \n",
              "\n",
              "             state_total_days_open  state_total_terrain_parks  \\\n",
              "state                                                           \n",
              "Alaska                       345.0                        4.0   \n",
              "Arizona                      237.0                        6.0   \n",
              "California                  2738.0                       81.0   \n",
              "Colorado                    3258.0                       74.0   \n",
              "Connecticut                  353.0                       10.0   \n",
              "\n",
              "             state_total_nightskiing_ac  resorts_per_100kcapita  \\\n",
              "state                                                             \n",
              "Alaska                            580.0                0.410091   \n",
              "Arizona                            80.0                0.027477   \n",
              "California                        587.0                0.053148   \n",
              "Colorado                          428.0                0.382028   \n",
              "Connecticut                       256.0                0.140242   \n",
              "\n",
              "             resorts_per_100ksq_mile  \n",
              "state                                 \n",
              "Alaska                      0.450867  \n",
              "Arizona                     1.754540  \n",
              "California                 12.828736  \n",
              "Colorado                   21.134744  \n",
              "Connecticut                90.203861  "
            ],
            "text/html": [
              "\n",
              "  <div id=\"df-9f865cc8-d140-4bb7-afec-002dddcd7720\">\n",
              "    <div class=\"colab-df-container\">\n",
              "      <div>\n",
              "<style scoped>\n",
              "    .dataframe tbody tr th:only-of-type {\n",
              "        vertical-align: middle;\n",
              "    }\n",
              "\n",
              "    .dataframe tbody tr th {\n",
              "        vertical-align: top;\n",
              "    }\n",
              "\n",
              "    .dataframe thead th {\n",
              "        text-align: right;\n",
              "    }\n",
              "</style>\n",
              "<table border=\"1\" class=\"dataframe\">\n",
              "  <thead>\n",
              "    <tr style=\"text-align: right;\">\n",
              "      <th></th>\n",
              "      <th>Unnamed: 0</th>\n",
              "      <th>resorts_per_state</th>\n",
              "      <th>state_total_skiable_area_ac</th>\n",
              "      <th>state_total_days_open</th>\n",
              "      <th>state_total_terrain_parks</th>\n",
              "      <th>state_total_nightskiing_ac</th>\n",
              "      <th>resorts_per_100kcapita</th>\n",
              "      <th>resorts_per_100ksq_mile</th>\n",
              "    </tr>\n",
              "    <tr>\n",
              "      <th>state</th>\n",
              "      <th></th>\n",
              "      <th></th>\n",
              "      <th></th>\n",
              "      <th></th>\n",
              "      <th></th>\n",
              "      <th></th>\n",
              "      <th></th>\n",
              "      <th></th>\n",
              "    </tr>\n",
              "  </thead>\n",
              "  <tbody>\n",
              "    <tr>\n",
              "      <th>Alaska</th>\n",
              "      <td>0</td>\n",
              "      <td>3</td>\n",
              "      <td>2280.0</td>\n",
              "      <td>345.0</td>\n",
              "      <td>4.0</td>\n",
              "      <td>580.0</td>\n",
              "      <td>0.410091</td>\n",
              "      <td>0.450867</td>\n",
              "    </tr>\n",
              "    <tr>\n",
              "      <th>Arizona</th>\n",
              "      <td>1</td>\n",
              "      <td>2</td>\n",
              "      <td>1577.0</td>\n",
              "      <td>237.0</td>\n",
              "      <td>6.0</td>\n",
              "      <td>80.0</td>\n",
              "      <td>0.027477</td>\n",
              "      <td>1.754540</td>\n",
              "    </tr>\n",
              "    <tr>\n",
              "      <th>California</th>\n",
              "      <td>2</td>\n",
              "      <td>21</td>\n",
              "      <td>25948.0</td>\n",
              "      <td>2738.0</td>\n",
              "      <td>81.0</td>\n",
              "      <td>587.0</td>\n",
              "      <td>0.053148</td>\n",
              "      <td>12.828736</td>\n",
              "    </tr>\n",
              "    <tr>\n",
              "      <th>Colorado</th>\n",
              "      <td>3</td>\n",
              "      <td>22</td>\n",
              "      <td>43682.0</td>\n",
              "      <td>3258.0</td>\n",
              "      <td>74.0</td>\n",
              "      <td>428.0</td>\n",
              "      <td>0.382028</td>\n",
              "      <td>21.134744</td>\n",
              "    </tr>\n",
              "    <tr>\n",
              "      <th>Connecticut</th>\n",
              "      <td>4</td>\n",
              "      <td>5</td>\n",
              "      <td>358.0</td>\n",
              "      <td>353.0</td>\n",
              "      <td>10.0</td>\n",
              "      <td>256.0</td>\n",
              "      <td>0.140242</td>\n",
              "      <td>90.203861</td>\n",
              "    </tr>\n",
              "  </tbody>\n",
              "</table>\n",
              "</div>\n",
              "      <button class=\"colab-df-convert\" onclick=\"convertToInteractive('df-9f865cc8-d140-4bb7-afec-002dddcd7720')\"\n",
              "              title=\"Convert this dataframe to an interactive table.\"\n",
              "              style=\"display:none;\">\n",
              "        \n",
              "  <svg xmlns=\"http://www.w3.org/2000/svg\" height=\"24px\"viewBox=\"0 0 24 24\"\n",
              "       width=\"24px\">\n",
              "    <path d=\"M0 0h24v24H0V0z\" fill=\"none\"/>\n",
              "    <path d=\"M18.56 5.44l.94 2.06.94-2.06 2.06-.94-2.06-.94-.94-2.06-.94 2.06-2.06.94zm-11 1L8.5 8.5l.94-2.06 2.06-.94-2.06-.94L8.5 2.5l-.94 2.06-2.06.94zm10 10l.94 2.06.94-2.06 2.06-.94-2.06-.94-.94-2.06-.94 2.06-2.06.94z\"/><path d=\"M17.41 7.96l-1.37-1.37c-.4-.4-.92-.59-1.43-.59-.52 0-1.04.2-1.43.59L10.3 9.45l-7.72 7.72c-.78.78-.78 2.05 0 2.83L4 21.41c.39.39.9.59 1.41.59.51 0 1.02-.2 1.41-.59l7.78-7.78 2.81-2.81c.8-.78.8-2.07 0-2.86zM5.41 20L4 18.59l7.72-7.72 1.47 1.35L5.41 20z\"/>\n",
              "  </svg>\n",
              "      </button>\n",
              "      \n",
              "  <style>\n",
              "    .colab-df-container {\n",
              "      display:flex;\n",
              "      flex-wrap:wrap;\n",
              "      gap: 12px;\n",
              "    }\n",
              "\n",
              "    .colab-df-convert {\n",
              "      background-color: #E8F0FE;\n",
              "      border: none;\n",
              "      border-radius: 50%;\n",
              "      cursor: pointer;\n",
              "      display: none;\n",
              "      fill: #1967D2;\n",
              "      height: 32px;\n",
              "      padding: 0 0 0 0;\n",
              "      width: 32px;\n",
              "    }\n",
              "\n",
              "    .colab-df-convert:hover {\n",
              "      background-color: #E2EBFA;\n",
              "      box-shadow: 0px 1px 2px rgba(60, 64, 67, 0.3), 0px 1px 3px 1px rgba(60, 64, 67, 0.15);\n",
              "      fill: #174EA6;\n",
              "    }\n",
              "\n",
              "    [theme=dark] .colab-df-convert {\n",
              "      background-color: #3B4455;\n",
              "      fill: #D2E3FC;\n",
              "    }\n",
              "\n",
              "    [theme=dark] .colab-df-convert:hover {\n",
              "      background-color: #434B5C;\n",
              "      box-shadow: 0px 1px 3px 1px rgba(0, 0, 0, 0.15);\n",
              "      filter: drop-shadow(0px 1px 2px rgba(0, 0, 0, 0.3));\n",
              "      fill: #FFFFFF;\n",
              "    }\n",
              "  </style>\n",
              "\n",
              "      <script>\n",
              "        const buttonEl =\n",
              "          document.querySelector('#df-9f865cc8-d140-4bb7-afec-002dddcd7720 button.colab-df-convert');\n",
              "        buttonEl.style.display =\n",
              "          google.colab.kernel.accessAllowed ? 'block' : 'none';\n",
              "\n",
              "        async function convertToInteractive(key) {\n",
              "          const element = document.querySelector('#df-9f865cc8-d140-4bb7-afec-002dddcd7720');\n",
              "          const dataTable =\n",
              "            await google.colab.kernel.invokeFunction('convertToInteractive',\n",
              "                                                     [key], {});\n",
              "          if (!dataTable) return;\n",
              "\n",
              "          const docLinkHtml = 'Like what you see? Visit the ' +\n",
              "            '<a target=\"_blank\" href=https://colab.research.google.com/notebooks/data_table.ipynb>data table notebook</a>'\n",
              "            + ' to learn more about interactive tables.';\n",
              "          element.innerHTML = '';\n",
              "          dataTable['output_type'] = 'display_data';\n",
              "          await google.colab.output.renderOutput(dataTable, element);\n",
              "          const docLink = document.createElement('div');\n",
              "          docLink.innerHTML = docLinkHtml;\n",
              "          element.appendChild(docLink);\n",
              "        }\n",
              "      </script>\n",
              "    </div>\n",
              "  </div>\n",
              "  "
            ]
          },
          "metadata": {},
          "execution_count": 52
        }
      ],
      "source": [
        "#Code task 1#\n",
        "#Create a new dataframe, `state_summary_scale` from `state_summary` whilst setting the index to 'state'\n",
        "state_summary_scale = state_summary.set_index('state')\n",
        "#Save the state labels (using the index attribute of `state_summary_scale`) into the variable 'state_summary_index'\n",
        "state_summary_index = state_summary_scale.index\n",
        "#Save the column names (using the `columns` attribute) of `state_summary_scale` into the variable 'state_summary_columns'\n",
        "state_summary_columns = state_summary_scale.columns\n",
        "state_summary_scale.head()"
      ]
    },
    {
      "cell_type": "markdown",
      "metadata": {
        "id": "J5k3bOvIAZCK"
      },
      "source": [
        "The above shows what we expect: the columns we want are all numeric and the state has been moved to the index. Although, it's not necessary to step through the sequence so laboriously, it is often good practice even for experienced professionals. It's easy to make a mistake or forget a step, or the data may have been holding out a surprise! Stepping through like this helps  validate both your work and the data!\n",
        "\n",
        "Now use `scale()` to scale the data."
      ]
    },
    {
      "cell_type": "code",
      "execution_count": 53,
      "metadata": {
        "id": "e0MUV9uZAZCK"
      },
      "outputs": [],
      "source": [
        "state_summary_scale = scale(state_summary_scale)"
      ]
    },
    {
      "cell_type": "markdown",
      "metadata": {
        "id": "4qm9KtMZAZCL"
      },
      "source": [
        "Note, `scale()` returns an ndarray, so you lose the column names. Because you want to visualise scaled data, you already copied the column names. Now you can construct a dataframe from the ndarray here and reintroduce the column names."
      ]
    },
    {
      "cell_type": "code",
      "execution_count": 54,
      "metadata": {
        "id": "RLf36ppNAZCM",
        "colab": {
          "base_uri": "https://localhost:8080/",
          "height": 206
        },
        "outputId": "50cf1843-539d-49e6-de58-dcdf03bcbb46"
      },
      "outputs": [
        {
          "output_type": "execute_result",
          "data": {
            "text/plain": [
              "   Unnamed: 0  resorts_per_state  state_total_skiable_area_ac  \\\n",
              "0   -1.683251          -0.806912                    -0.392012   \n",
              "1   -1.584236          -0.933558                    -0.462424   \n",
              "2   -1.485221           1.472706                     1.978574   \n",
              "3   -1.386207           1.599351                     3.754811   \n",
              "4   -1.287192          -0.553622                    -0.584519   \n",
              "\n",
              "   state_total_days_open  state_total_terrain_parks  \\\n",
              "0              -0.689059                  -0.816118   \n",
              "1              -0.819038                  -0.726994   \n",
              "2               2.190933                   2.615141   \n",
              "3               2.816757                   2.303209   \n",
              "4              -0.679431                  -0.548747   \n",
              "\n",
              "   state_total_nightskiing_ac  resorts_per_100kcapita  resorts_per_100ksq_mile  \n",
              "0                    0.069410                0.139593                -0.689999  \n",
              "1                   -0.701326               -0.644706                -0.658125  \n",
              "2                    0.080201               -0.592085                -0.387368  \n",
              "3                   -0.164893                0.082069                -0.184291  \n",
              "4                   -0.430027               -0.413557                 1.504408  "
            ],
            "text/html": [
              "\n",
              "  <div id=\"df-d70dcfed-dd74-45ce-a6f8-0ef5cea87869\">\n",
              "    <div class=\"colab-df-container\">\n",
              "      <div>\n",
              "<style scoped>\n",
              "    .dataframe tbody tr th:only-of-type {\n",
              "        vertical-align: middle;\n",
              "    }\n",
              "\n",
              "    .dataframe tbody tr th {\n",
              "        vertical-align: top;\n",
              "    }\n",
              "\n",
              "    .dataframe thead th {\n",
              "        text-align: right;\n",
              "    }\n",
              "</style>\n",
              "<table border=\"1\" class=\"dataframe\">\n",
              "  <thead>\n",
              "    <tr style=\"text-align: right;\">\n",
              "      <th></th>\n",
              "      <th>Unnamed: 0</th>\n",
              "      <th>resorts_per_state</th>\n",
              "      <th>state_total_skiable_area_ac</th>\n",
              "      <th>state_total_days_open</th>\n",
              "      <th>state_total_terrain_parks</th>\n",
              "      <th>state_total_nightskiing_ac</th>\n",
              "      <th>resorts_per_100kcapita</th>\n",
              "      <th>resorts_per_100ksq_mile</th>\n",
              "    </tr>\n",
              "  </thead>\n",
              "  <tbody>\n",
              "    <tr>\n",
              "      <th>0</th>\n",
              "      <td>-1.683251</td>\n",
              "      <td>-0.806912</td>\n",
              "      <td>-0.392012</td>\n",
              "      <td>-0.689059</td>\n",
              "      <td>-0.816118</td>\n",
              "      <td>0.069410</td>\n",
              "      <td>0.139593</td>\n",
              "      <td>-0.689999</td>\n",
              "    </tr>\n",
              "    <tr>\n",
              "      <th>1</th>\n",
              "      <td>-1.584236</td>\n",
              "      <td>-0.933558</td>\n",
              "      <td>-0.462424</td>\n",
              "      <td>-0.819038</td>\n",
              "      <td>-0.726994</td>\n",
              "      <td>-0.701326</td>\n",
              "      <td>-0.644706</td>\n",
              "      <td>-0.658125</td>\n",
              "    </tr>\n",
              "    <tr>\n",
              "      <th>2</th>\n",
              "      <td>-1.485221</td>\n",
              "      <td>1.472706</td>\n",
              "      <td>1.978574</td>\n",
              "      <td>2.190933</td>\n",
              "      <td>2.615141</td>\n",
              "      <td>0.080201</td>\n",
              "      <td>-0.592085</td>\n",
              "      <td>-0.387368</td>\n",
              "    </tr>\n",
              "    <tr>\n",
              "      <th>3</th>\n",
              "      <td>-1.386207</td>\n",
              "      <td>1.599351</td>\n",
              "      <td>3.754811</td>\n",
              "      <td>2.816757</td>\n",
              "      <td>2.303209</td>\n",
              "      <td>-0.164893</td>\n",
              "      <td>0.082069</td>\n",
              "      <td>-0.184291</td>\n",
              "    </tr>\n",
              "    <tr>\n",
              "      <th>4</th>\n",
              "      <td>-1.287192</td>\n",
              "      <td>-0.553622</td>\n",
              "      <td>-0.584519</td>\n",
              "      <td>-0.679431</td>\n",
              "      <td>-0.548747</td>\n",
              "      <td>-0.430027</td>\n",
              "      <td>-0.413557</td>\n",
              "      <td>1.504408</td>\n",
              "    </tr>\n",
              "  </tbody>\n",
              "</table>\n",
              "</div>\n",
              "      <button class=\"colab-df-convert\" onclick=\"convertToInteractive('df-d70dcfed-dd74-45ce-a6f8-0ef5cea87869')\"\n",
              "              title=\"Convert this dataframe to an interactive table.\"\n",
              "              style=\"display:none;\">\n",
              "        \n",
              "  <svg xmlns=\"http://www.w3.org/2000/svg\" height=\"24px\"viewBox=\"0 0 24 24\"\n",
              "       width=\"24px\">\n",
              "    <path d=\"M0 0h24v24H0V0z\" fill=\"none\"/>\n",
              "    <path d=\"M18.56 5.44l.94 2.06.94-2.06 2.06-.94-2.06-.94-.94-2.06-.94 2.06-2.06.94zm-11 1L8.5 8.5l.94-2.06 2.06-.94-2.06-.94L8.5 2.5l-.94 2.06-2.06.94zm10 10l.94 2.06.94-2.06 2.06-.94-2.06-.94-.94-2.06-.94 2.06-2.06.94z\"/><path d=\"M17.41 7.96l-1.37-1.37c-.4-.4-.92-.59-1.43-.59-.52 0-1.04.2-1.43.59L10.3 9.45l-7.72 7.72c-.78.78-.78 2.05 0 2.83L4 21.41c.39.39.9.59 1.41.59.51 0 1.02-.2 1.41-.59l7.78-7.78 2.81-2.81c.8-.78.8-2.07 0-2.86zM5.41 20L4 18.59l7.72-7.72 1.47 1.35L5.41 20z\"/>\n",
              "  </svg>\n",
              "      </button>\n",
              "      \n",
              "  <style>\n",
              "    .colab-df-container {\n",
              "      display:flex;\n",
              "      flex-wrap:wrap;\n",
              "      gap: 12px;\n",
              "    }\n",
              "\n",
              "    .colab-df-convert {\n",
              "      background-color: #E8F0FE;\n",
              "      border: none;\n",
              "      border-radius: 50%;\n",
              "      cursor: pointer;\n",
              "      display: none;\n",
              "      fill: #1967D2;\n",
              "      height: 32px;\n",
              "      padding: 0 0 0 0;\n",
              "      width: 32px;\n",
              "    }\n",
              "\n",
              "    .colab-df-convert:hover {\n",
              "      background-color: #E2EBFA;\n",
              "      box-shadow: 0px 1px 2px rgba(60, 64, 67, 0.3), 0px 1px 3px 1px rgba(60, 64, 67, 0.15);\n",
              "      fill: #174EA6;\n",
              "    }\n",
              "\n",
              "    [theme=dark] .colab-df-convert {\n",
              "      background-color: #3B4455;\n",
              "      fill: #D2E3FC;\n",
              "    }\n",
              "\n",
              "    [theme=dark] .colab-df-convert:hover {\n",
              "      background-color: #434B5C;\n",
              "      box-shadow: 0px 1px 3px 1px rgba(0, 0, 0, 0.15);\n",
              "      filter: drop-shadow(0px 1px 2px rgba(0, 0, 0, 0.3));\n",
              "      fill: #FFFFFF;\n",
              "    }\n",
              "  </style>\n",
              "\n",
              "      <script>\n",
              "        const buttonEl =\n",
              "          document.querySelector('#df-d70dcfed-dd74-45ce-a6f8-0ef5cea87869 button.colab-df-convert');\n",
              "        buttonEl.style.display =\n",
              "          google.colab.kernel.accessAllowed ? 'block' : 'none';\n",
              "\n",
              "        async function convertToInteractive(key) {\n",
              "          const element = document.querySelector('#df-d70dcfed-dd74-45ce-a6f8-0ef5cea87869');\n",
              "          const dataTable =\n",
              "            await google.colab.kernel.invokeFunction('convertToInteractive',\n",
              "                                                     [key], {});\n",
              "          if (!dataTable) return;\n",
              "\n",
              "          const docLinkHtml = 'Like what you see? Visit the ' +\n",
              "            '<a target=\"_blank\" href=https://colab.research.google.com/notebooks/data_table.ipynb>data table notebook</a>'\n",
              "            + ' to learn more about interactive tables.';\n",
              "          element.innerHTML = '';\n",
              "          dataTable['output_type'] = 'display_data';\n",
              "          await google.colab.output.renderOutput(dataTable, element);\n",
              "          const docLink = document.createElement('div');\n",
              "          docLink.innerHTML = docLinkHtml;\n",
              "          element.appendChild(docLink);\n",
              "        }\n",
              "      </script>\n",
              "    </div>\n",
              "  </div>\n",
              "  "
            ]
          },
          "metadata": {},
          "execution_count": 54
        }
      ],
      "source": [
        "#Code task 2#\n",
        "#Create a new dataframe from `state_summary_scale` using the column names we saved in `state_summary_columns`\n",
        "state_summary_scaled_df = pd.DataFrame(state_summary_scale, columns=state_summary_columns)\n",
        "state_summary_scaled_df.head()"
      ]
    },
    {
      "cell_type": "markdown",
      "metadata": {
        "id": "5lzulhTIAZCM"
      },
      "source": [
        "##### 3.5.3.1.1 Verifying the scaling<a id='3.5.3.1.1_Verifying_the_scaling'></a>"
      ]
    },
    {
      "cell_type": "markdown",
      "metadata": {
        "id": "f-8UOREIAZCN"
      },
      "source": [
        "This is definitely going the extra mile for validating your steps, but provides a worthwhile lesson."
      ]
    },
    {
      "cell_type": "markdown",
      "metadata": {
        "id": "PiIN-zCdAZCN"
      },
      "source": [
        "First of all, check the mean of the scaled features using panda's `mean()` DataFrame method."
      ]
    },
    {
      "cell_type": "code",
      "execution_count": 55,
      "metadata": {
        "id": "nUV_wf4cAZCO",
        "colab": {
          "base_uri": "https://localhost:8080/"
        },
        "outputId": "ee1c7dd7-9784-4bcc-d9ba-f2783ad0e5cf"
      },
      "outputs": [
        {
          "output_type": "execute_result",
          "data": {
            "text/plain": [
              "Unnamed: 0                    -1.268826e-17\n",
              "resorts_per_state             -7.295751e-17\n",
              "state_total_skiable_area_ac   -4.163336e-17\n",
              "state_total_days_open          7.692260e-17\n",
              "state_total_terrain_parks      4.599495e-17\n",
              "state_total_nightskiing_ac     7.612958e-17\n",
              "resorts_per_100kcapita         5.075305e-17\n",
              "resorts_per_100ksq_mile        5.075305e-17\n",
              "dtype: float64"
            ]
          },
          "metadata": {},
          "execution_count": 55
        }
      ],
      "source": [
        "#Code task 3#\n",
        "#Call `state_summary_scaled_df`'s `mean()` method\n",
        "state_summary_scaled_df.mean()"
      ]
    },
    {
      "cell_type": "markdown",
      "metadata": {
        "id": "-6qUZ3ZqAZCP"
      },
      "source": [
        "This is pretty much zero!"
      ]
    },
    {
      "cell_type": "markdown",
      "metadata": {
        "id": "5fq7itfSAZCP"
      },
      "source": [
        "Perform a similar check for the standard deviation using pandas's `std()` DataFrame method."
      ]
    },
    {
      "cell_type": "code",
      "execution_count": 56,
      "metadata": {
        "id": "jpGPA5qEAZCQ",
        "colab": {
          "base_uri": "https://localhost:8080/"
        },
        "outputId": "1414fe9c-eeea-45d4-d041-dbb8d08c794a"
      },
      "outputs": [
        {
          "output_type": "execute_result",
          "data": {
            "text/plain": [
              "Unnamed: 0                     1.014599\n",
              "resorts_per_state              1.014599\n",
              "state_total_skiable_area_ac    1.014599\n",
              "state_total_days_open          1.014599\n",
              "state_total_terrain_parks      1.014599\n",
              "state_total_nightskiing_ac     1.014599\n",
              "resorts_per_100kcapita         1.014599\n",
              "resorts_per_100ksq_mile        1.014599\n",
              "dtype: float64"
            ]
          },
          "metadata": {},
          "execution_count": 56
        }
      ],
      "source": [
        "#Code task 4#\n",
        "#Call `state_summary_scaled_df`'s `std()` method\n",
        "state_summary_scaled_df.std()"
      ]
    },
    {
      "cell_type": "markdown",
      "metadata": {
        "id": "nqZuVql-AZCQ"
      },
      "source": [
        "Well, this is a little embarrassing. The numbers should be closer to 1 than this! Check the documentation for [scale](https://scikit-learn.org/stable/modules/generated/sklearn.preprocessing.scale.html) to see if you used it right. What about [std](https://pandas.pydata.org/pandas-docs/stable/reference/api/pandas.DataFrame.std.html), did you mess up there? Is one of them not working right?\n",
        "\n",
        "The keen observer, who already has some familiarity with statistical inference and biased estimators, may have noticed what's happened here. `scale()` uses the biased estimator for standard deviation (ddof=0). This doesn't mean it's bad! It simply means it calculates the standard deviation of the sample it was given. The `std()` method, on the other hand, defaults to using ddof=1, that is it's normalized by N-1. In other words, the `std()` method default is to assume you want your best estimate of the population parameter based on the given sample. You can tell it to return the biased estimate instead:"
      ]
    },
    {
      "cell_type": "code",
      "execution_count": 57,
      "metadata": {
        "id": "eXjfZjFGAZCR",
        "colab": {
          "base_uri": "https://localhost:8080/"
        },
        "outputId": "e2af1fc5-c5b0-4c3a-c329-a5d14ce1b055"
      },
      "outputs": [
        {
          "output_type": "execute_result",
          "data": {
            "text/plain": [
              "Unnamed: 0                     1.0\n",
              "resorts_per_state              1.0\n",
              "state_total_skiable_area_ac    1.0\n",
              "state_total_days_open          1.0\n",
              "state_total_terrain_parks      1.0\n",
              "state_total_nightskiing_ac     1.0\n",
              "resorts_per_100kcapita         1.0\n",
              "resorts_per_100ksq_mile        1.0\n",
              "dtype: float64"
            ]
          },
          "metadata": {},
          "execution_count": 57
        }
      ],
      "source": [
        "#Code task 5#\n",
        "#Repeat the previous call to `std()` but pass in ddof=0 \n",
        "state_summary_scaled_df.std(ddof=0)"
      ]
    },
    {
      "cell_type": "markdown",
      "metadata": {
        "id": "M4sKn9UdAZCR"
      },
      "source": [
        "There! Now it agrees with `scale()` and our expectation. This just goes to show different routines to do ostensibly the same thing can have different behaviours. Good practice is to keep validating your work and checking the documentation!"
      ]
    },
    {
      "cell_type": "markdown",
      "metadata": {
        "id": "BfvlIVDjAZCR"
      },
      "source": [
        "#### 3.5.3.2 Calculate the PCA transformation<a id='3.5.3.2_Calculate_the_PCA_transformation'></a>"
      ]
    },
    {
      "cell_type": "markdown",
      "metadata": {
        "id": "ZamBKzrAAZCS"
      },
      "source": [
        "Fit the PCA transformation using the scaled data."
      ]
    },
    {
      "cell_type": "code",
      "execution_count": null,
      "metadata": {
        "id": "Nf6wai00AZCS"
      },
      "outputs": [],
      "source": [
        "state_pca = PCA().fit(state_summary_scale)"
      ]
    },
    {
      "cell_type": "markdown",
      "metadata": {
        "id": "lePgQZBIAZCT"
      },
      "source": [
        "Plot the cumulative variance ratio with number of components."
      ]
    },
    {
      "cell_type": "code",
      "execution_count": 63,
      "metadata": {
        "id": "kdgxEWl8AZCT",
        "outputId": "e66b76f6-1cad-4099-aa80-42856b0639b7",
        "colab": {
          "base_uri": "https://localhost:8080/",
          "height": 564
        }
      },
      "outputs": [
        {
          "output_type": "display_data",
          "data": {
            "text/plain": [
              "<Figure size 1000x600 with 1 Axes>"
            ],
            "image/png": "[encoded data removed]"
          },
          "metadata": {}
        }
      ],
      "source": [
        "#Code task 6#\n",
        "#Call the `cumsum()` method on the 'explained_variance_ratio_' attribute of `state_pca` and\n",
        "#create a line plot to visualize the cumulative explained variance ratio with number of components\n",
        "#Set the xlabel to 'Component #', the ylabel to 'Cumulative ratio variance', and the\n",
        "#title to 'Cumulative variance ratio explained by PCA components for state/resort summary statistics'\n",
        "#Hint: remember the handy ';' at the end of the last plot call to suppress that untidy output\n",
        "plt.subplots(figsize=(10, 6))\n",
        "plt.plot(state_pca.explained_variance_ratio_.cumsum())\n",
        "plt.xlabel('Component #')\n",
        "plt.ylabel('Cumulative ratio variance')\n",
        "plt.title('Cumulative variance ratio explained by PCA components for state/resort summary statistics');"
      ]
    },
    {
      "cell_type": "markdown",
      "metadata": {
        "id": "GfIkjmojAZCT"
      },
      "source": [
        "The first two components seem to account for over 75% of the variance, and the first four for over 95%."
      ]
    },
    {
      "cell_type": "markdown",
      "metadata": {
        "id": "VPoEBhTMAZCU"
      },
      "source": [
        "**Note:** It is important to move quickly when performing exploratory data analysis. You should not spend hours trying to create publication-ready figures. However, it is crucially important that you can easily review and summarise the findings from EDA. Descriptive axis labels and titles are _extremely_ useful here. When you come to reread your notebook to summarise your findings, you will be thankful that you created descriptive plots and even made key observations in adjacent markdown cells."
      ]
    },
    {
      "cell_type": "markdown",
      "metadata": {
        "id": "_GZQ1PCvAZCU"
      },
      "source": [
        "Apply the transformation to the data to obtain the derived features."
      ]
    },
    {
      "cell_type": "code",
      "execution_count": 65,
      "metadata": {
        "id": "zwwpIWA7AZCV"
      },
      "outputs": [],
      "source": [
        "#Code task 7#\n",
        "#Call `state_pca`'s `transform()` method, passing in `state_summary_scale` as its argument\n",
        "state_pca_x = state_pca.transform(state_summary_scale)"
      ]
    },
    {
      "cell_type": "code",
      "execution_count": 66,
      "metadata": {
        "id": "aep4OYlnAZCV",
        "outputId": "c03fb09a-52e9-4224-ab5c-28bd9bc4e9e1",
        "colab": {
          "base_uri": "https://localhost:8080/"
        }
      },
      "outputs": [
        {
          "output_type": "execute_result",
          "data": {
            "text/plain": [
              "(35, 8)"
            ]
          },
          "metadata": {},
          "execution_count": 66
        }
      ],
      "source": [
        "state_pca_x.shape"
      ]
    },
    {
      "cell_type": "markdown",
      "metadata": {
        "id": "v9qwn5nBAZCW"
      },
      "source": [
        "Plot the first two derived features (the first two principle components) and label each point with the name of the state."
      ]
    },
    {
      "cell_type": "markdown",
      "metadata": {
        "id": "cXkVoGU0AZCX"
      },
      "source": [
        "Take a moment to familiarize yourself with the code below. It will extract the first and second columns from the transformed data (`state_pca_x`) as x and y coordinates for plotting. Recall the state labels you saved (for this purpose) for subsequent calls to `plt.annotate`. Grab the second (index 1) value of the cumulative variance ratio to include in your descriptive title; this helpfully highlights the percentage variance explained\n",
        "by the two PCA components you're visualizing. Then create an appropriately sized and well-labelled scatterplot\n",
        "to convey all of this information."
      ]
    },
    {
      "cell_type": "code",
      "execution_count": 67,
      "metadata": {
        "id": "KjaVDQnhAZCX",
        "outputId": "8a71b6e9-21c1-4246-c1f1-a5dccb9fc41c",
        "colab": {
          "base_uri": "https://localhost:8080/",
          "height": 718
        }
      },
      "outputs": [
        {
          "output_type": "display_data",
          "data": {
            "text/plain": [
              "<Figure size 1000x800 with 1 Axes>"
            ],
            "image/png": "[encoded data removed]"
          },
          "metadata": {}
        }
      ],
      "source": [
        "x = state_pca_x[:, 0]\n",
        "y = state_pca_x[:, 1]\n",
        "state = state_summary_index\n",
        "pc_var = 100 * state_pca.explained_variance_ratio_.cumsum()[1]\n",
        "plt.subplots(figsize=(10,8))\n",
        "plt.scatter(x=x, y=y)\n",
        "plt.xlabel('First component')\n",
        "plt.ylabel('Second component')\n",
        "plt.title(f'Ski states summary PCA, {pc_var:.1f}% variance explained')\n",
        "for s, x, y in zip(state, x, y):\n",
        "    plt.annotate(s, (x, y))"
      ]
    },
    {
      "cell_type": "markdown",
      "metadata": {
        "id": "skgDIh8YAZCY"
      },
      "source": [
        "#### 3.5.3.3 Average ticket price by state<a id='3.5.3.3_Average_ticket_price_by_state'></a>"
      ]
    },
    {
      "cell_type": "markdown",
      "metadata": {
        "id": "4_7D1o1vAZCZ"
      },
      "source": [
        "Here, all point markers for the states are the same size and colour. You've visualized relationships between the states based on features such as the total skiable terrain area, but your ultimate interest lies in ticket prices. You know ticket prices for resorts in each state, so it might be interesting to see if there's any pattern there."
      ]
    },
    {
      "cell_type": "code",
      "execution_count": 68,
      "metadata": {
        "id": "RLY8bCS3AZCa",
        "outputId": "202d9574-1632-434f-9ec0-b5fb64a495a0",
        "colab": {
          "base_uri": "https://localhost:8080/"
        }
      },
      "outputs": [
        {
          "output_type": "execute_result",
          "data": {
            "text/plain": [
              "state\n",
              "Alaska         57.333333\n",
              "Arizona        83.500000\n",
              "California     81.416667\n",
              "Colorado       90.714286\n",
              "Connecticut    56.800000\n",
              "Name: AdultWeekend, dtype: float64"
            ]
          },
          "metadata": {},
          "execution_count": 68
        }
      ],
      "source": [
        "#Code task 8#\n",
        "#Calculate the average 'AdultWeekend' ticket price by state\n",
        "state_avg_price = ski_data.groupby('state')['AdultWeekend'].mean()\n",
        "state_avg_price.head()"
      ]
    },
    {
      "cell_type": "code",
      "execution_count": 69,
      "metadata": {
        "id": "rCgTJuT5AZCa",
        "outputId": "71c6213e-740b-4912-a6eb-3d4f5d456a97",
        "colab": {
          "base_uri": "https://localhost:8080/",
          "height": 472
        }
      },
      "outputs": [
        {
          "output_type": "display_data",
          "data": {
            "text/plain": [
              "<Figure size 640x480 with 1 Axes>"
            ],
            "image/png": "[encoded data removed]"
          },
          "metadata": {}
        }
      ],
      "source": [
        "state_avg_price.hist(bins=30)\n",
        "plt.title('Distribution of state averaged prices')\n",
        "plt.xlabel('Mean state adult weekend ticket price')\n",
        "plt.ylabel('count');"
      ]
    },
    {
      "cell_type": "markdown",
      "metadata": {
        "id": "KnPdaQDfAZCb"
      },
      "source": [
        "#### 3.5.3.4 Adding average ticket price to scatter plot<a id='3.5.3.4_Adding_average_ticket_price_to_scatter_plot'></a>"
      ]
    },
    {
      "cell_type": "markdown",
      "metadata": {
        "id": "GL6-mYmMAZCb"
      },
      "source": [
        "At this point you have several objects floating around. You have just calculated average ticket price by state from our ski resort data, but you've been looking at principle components generated from other state summary data. We extracted indexes and column names from a dataframe and the first two principle components from an array. It's becoming a bit hard to keep track of them all. You'll create a new DataFrame to do this."
      ]
    },
    {
      "cell_type": "code",
      "execution_count": null,
      "metadata": {
        "id": "xDI-j8w-AZCc"
      },
      "outputs": [],
      "source": [
        "#Code task 9#\n",
        "#Create a dataframe containing the values of the first two PCA components\n",
        "#Remember the first component was given by state_pca_x[:, 0],\n",
        "#and the second by state_pca_x[:, 1]\n",
        "#Call these 'PC1' and 'PC2', respectively and set the dataframe index to `state_summary_index`\n",
        "pca_df = pd.DataFrame({'PC1': ___, 'PC2': ___}, index=__)\n",
        "pca_df.head()"
      ]
    },
    {
      "cell_type": "markdown",
      "metadata": {
        "id": "BMMpP7REAZCc"
      },
      "source": [
        "That worked, and you have state as an index."
      ]
    },
    {
      "cell_type": "code",
      "execution_count": null,
      "metadata": {
        "id": "F0g6VWj6AZCd",
        "outputId": "cff07c0b-e5fd-4702-b062-b2eaa2faf2f5"
      },
      "outputs": [
        {
          "data": {
            "text/plain": [
              "state\n",
              "Alaska         57.333333\n",
              "Arizona        83.500000\n",
              "California     81.416667\n",
              "Colorado       90.714286\n",
              "Connecticut    56.800000\n",
              "Name: AdultWeekend, dtype: float64"
            ]
          },
          "execution_count": 34,
          "metadata": {},
          "output_type": "execute_result"
        }
      ],
      "source": [
        "# our average state prices also have state as an index\n",
        "state_avg_price.head()"
      ]
    },
    {
      "cell_type": "code",
      "execution_count": null,
      "metadata": {
        "id": "sI45L1sQAZCe",
        "outputId": "cbedcd4f-898d-4dd6-f9c4-649099014fc7"
      },
      "outputs": [
        {
          "data": {
            "text/html": [
              "<div>\n",
              "<style scoped>\n",
              "    .dataframe tbody tr th:only-of-type {\n",
              "        vertical-align: middle;\n",
              "    }\n",
              "\n",
              "    .dataframe tbody tr th {\n",
              "        vertical-align: top;\n",
              "    }\n",
              "\n",
              "    .dataframe thead th {\n",
              "        text-align: right;\n",
              "    }\n",
              "</style>\n",
              "<table border=\"1\" class=\"dataframe\">\n",
              "  <thead>\n",
              "    <tr style=\"text-align: right;\">\n",
              "      <th></th>\n",
              "      <th>AdultWeekend</th>\n",
              "    </tr>\n",
              "    <tr>\n",
              "      <th>state</th>\n",
              "      <th></th>\n",
              "    </tr>\n",
              "  </thead>\n",
              "  <tbody>\n",
              "    <tr>\n",
              "      <th>Alaska</th>\n",
              "      <td>57.333333</td>\n",
              "    </tr>\n",
              "    <tr>\n",
              "      <th>Arizona</th>\n",
              "      <td>83.500000</td>\n",
              "    </tr>\n",
              "    <tr>\n",
              "      <th>California</th>\n",
              "      <td>81.416667</td>\n",
              "    </tr>\n",
              "    <tr>\n",
              "      <th>Colorado</th>\n",
              "      <td>90.714286</td>\n",
              "    </tr>\n",
              "    <tr>\n",
              "      <th>Connecticut</th>\n",
              "      <td>56.800000</td>\n",
              "    </tr>\n",
              "  </tbody>\n",
              "</table>\n",
              "</div>"
            ],
            "text/plain": [
              "             AdultWeekend\n",
              "state                    \n",
              "Alaska          57.333333\n",
              "Arizona         83.500000\n",
              "California      81.416667\n",
              "Colorado        90.714286\n",
              "Connecticut     56.800000"
            ]
          },
          "execution_count": 35,
          "metadata": {},
          "output_type": "execute_result"
        }
      ],
      "source": [
        "# we can also cast it to a dataframe using Series' to_frame() method:\n",
        "state_avg_price.to_frame().head()"
      ]
    },
    {
      "cell_type": "markdown",
      "metadata": {
        "id": "5q_vB5tsAZCe"
      },
      "source": [
        "Now you can concatenate both parts on axis 1 and using the indexes."
      ]
    },
    {
      "cell_type": "code",
      "execution_count": null,
      "metadata": {
        "id": "-8kWMBmvAZCf"
      },
      "outputs": [],
      "source": [
        "#Code task 10#\n",
        "#Use pd.concat to concatenate `pca_df` and `state_avg_price` along axis 1\n",
        "# remember, pd.concat will align on index\n",
        "pca_df = ___([___, ___], axis=___)\n",
        "pca_df.head()"
      ]
    },
    {
      "cell_type": "markdown",
      "metadata": {
        "id": "qTXaHquUAZCf"
      },
      "source": [
        "You saw some range in average ticket price histogram above, but it may be hard to pick out differences if you're thinking of using the value for point size. You'll add another column where you seperate these prices into quartiles; that might show something."
      ]
    },
    {
      "cell_type": "code",
      "execution_count": null,
      "metadata": {
        "id": "DKYckfu0AZCg",
        "outputId": "07960165-a3d3-40a8-ec97-5cc36716b43e"
      },
      "outputs": [
        {
          "data": {
            "text/html": [
              "<div>\n",
              "<style scoped>\n",
              "    .dataframe tbody tr th:only-of-type {\n",
              "        vertical-align: middle;\n",
              "    }\n",
              "\n",
              "    .dataframe tbody tr th {\n",
              "        vertical-align: top;\n",
              "    }\n",
              "\n",
              "    .dataframe thead th {\n",
              "        text-align: right;\n",
              "    }\n",
              "</style>\n",
              "<table border=\"1\" class=\"dataframe\">\n",
              "  <thead>\n",
              "    <tr style=\"text-align: right;\">\n",
              "      <th></th>\n",
              "      <th>PC1</th>\n",
              "      <th>PC2</th>\n",
              "      <th>AdultWeekend</th>\n",
              "      <th>Quartile</th>\n",
              "    </tr>\n",
              "  </thead>\n",
              "  <tbody>\n",
              "    <tr>\n",
              "      <th>Alaska</th>\n",
              "      <td>-1.336533</td>\n",
              "      <td>-0.182208</td>\n",
              "      <td>57.333333</td>\n",
              "      <td>(53.1, 60.4]</td>\n",
              "    </tr>\n",
              "    <tr>\n",
              "      <th>Arizona</th>\n",
              "      <td>-1.839049</td>\n",
              "      <td>-0.387959</td>\n",
              "      <td>83.500000</td>\n",
              "      <td>(78.4, 93.0]</td>\n",
              "    </tr>\n",
              "    <tr>\n",
              "      <th>California</th>\n",
              "      <td>3.537857</td>\n",
              "      <td>-1.282509</td>\n",
              "      <td>81.416667</td>\n",
              "      <td>(78.4, 93.0]</td>\n",
              "    </tr>\n",
              "    <tr>\n",
              "      <th>Colorado</th>\n",
              "      <td>4.402210</td>\n",
              "      <td>-0.898855</td>\n",
              "      <td>90.714286</td>\n",
              "      <td>(78.4, 93.0]</td>\n",
              "    </tr>\n",
              "    <tr>\n",
              "      <th>Connecticut</th>\n",
              "      <td>-0.988027</td>\n",
              "      <td>1.020218</td>\n",
              "      <td>56.800000</td>\n",
              "      <td>(53.1, 60.4]</td>\n",
              "    </tr>\n",
              "  </tbody>\n",
              "</table>\n",
              "</div>"
            ],
            "text/plain": [
              "                  PC1       PC2  AdultWeekend      Quartile\n",
              "Alaska      -1.336533 -0.182208     57.333333  (53.1, 60.4]\n",
              "Arizona     -1.839049 -0.387959     83.500000  (78.4, 93.0]\n",
              "California   3.537857 -1.282509     81.416667  (78.4, 93.0]\n",
              "Colorado     4.402210 -0.898855     90.714286  (78.4, 93.0]\n",
              "Connecticut -0.988027  1.020218     56.800000  (53.1, 60.4]"
            ]
          },
          "execution_count": 37,
          "metadata": {},
          "output_type": "execute_result"
        }
      ],
      "source": [
        "pca_df['Quartile'] = pd.qcut(pca_df.AdultWeekend, q=4, precision=1)\n",
        "pca_df.head()"
      ]
    },
    {
      "cell_type": "code",
      "execution_count": null,
      "metadata": {
        "id": "qTdA0pM9AZCg",
        "outputId": "7b16121d-0ef6-4500-b81b-52d36c332b70"
      },
      "outputs": [
        {
          "data": {
            "text/plain": [
              "PC1              float64\n",
              "PC2              float64\n",
              "AdultWeekend     float64\n",
              "Quartile        category\n",
              "dtype: object"
            ]
          },
          "execution_count": 38,
          "metadata": {},
          "output_type": "execute_result"
        }
      ],
      "source": [
        "# Note that Quartile is a new data type: category\n",
        "# This will affect how we handle it later on\n",
        "pca_df.dtypes"
      ]
    },
    {
      "cell_type": "markdown",
      "metadata": {
        "id": "sdFWzTjlAZCh"
      },
      "source": [
        "This looks great. But, let's have a healthy paranoia about it. You've just created a whole new DataFrame by combining information. Do we have any missing values? It's a narrow DataFrame, only four columns, so you'll just print out any rows that have any null values, expecting an empty DataFrame."
      ]
    },
    {
      "cell_type": "code",
      "execution_count": null,
      "metadata": {
        "id": "ctLc8Q_1AZCh",
        "outputId": "53de0e43-5993-41aa-9ee7-8f9a3cb3ebef"
      },
      "outputs": [
        {
          "data": {
            "text/html": [
              "<div>\n",
              "<style scoped>\n",
              "    .dataframe tbody tr th:only-of-type {\n",
              "        vertical-align: middle;\n",
              "    }\n",
              "\n",
              "    .dataframe tbody tr th {\n",
              "        vertical-align: top;\n",
              "    }\n",
              "\n",
              "    .dataframe thead th {\n",
              "        text-align: right;\n",
              "    }\n",
              "</style>\n",
              "<table border=\"1\" class=\"dataframe\">\n",
              "  <thead>\n",
              "    <tr style=\"text-align: right;\">\n",
              "      <th></th>\n",
              "      <th>PC1</th>\n",
              "      <th>PC2</th>\n",
              "      <th>AdultWeekend</th>\n",
              "      <th>Quartile</th>\n",
              "    </tr>\n",
              "  </thead>\n",
              "  <tbody>\n",
              "    <tr>\n",
              "      <th>Rhode Island</th>\n",
              "      <td>-1.843646</td>\n",
              "      <td>0.761339</td>\n",
              "      <td>NaN</td>\n",
              "      <td>NaN</td>\n",
              "    </tr>\n",
              "  </tbody>\n",
              "</table>\n",
              "</div>"
            ],
            "text/plain": [
              "                   PC1       PC2  AdultWeekend Quartile\n",
              "Rhode Island -1.843646  0.761339           NaN      NaN"
            ]
          },
          "execution_count": 39,
          "metadata": {},
          "output_type": "execute_result"
        }
      ],
      "source": [
        "pca_df[pca_df.isnull().any(axis=1)]"
      ]
    },
    {
      "cell_type": "markdown",
      "metadata": {
        "id": "c3mY8vOZAZCi"
      },
      "source": [
        "Ah, Rhode Island. How has this happened? Recall you created the original ski resort state summary dataset in the previous step before removing resorts with missing prices. This made sense because you wanted to capture all the other available information. However, Rhode Island only had one resort and its price was missing. You have two choices here. If you're interested in looking for any pattern with price, drop this row. But you are also generally interested in any clusters or trends, then you'd like to see Rhode Island even if the ticket price is unknown. So, replace these missing values to make it easier to handle/display them."
      ]
    },
    {
      "cell_type": "markdown",
      "metadata": {
        "id": "4UtwIjApAZCi"
      },
      "source": [
        "Because `Quartile` is a category type, there's an extra step here. Add the category (the string 'NA') that you're going to use as a replacement."
      ]
    },
    {
      "cell_type": "code",
      "execution_count": null,
      "metadata": {
        "id": "h1aGVS3nAZCj",
        "outputId": "2f3af649-af7d-4d4d-81ef-bb98ab3c55fc"
      },
      "outputs": [
        {
          "data": {
            "text/plain": [
              "PC1             -1.84365\n",
              "PC2             0.761339\n",
              "AdultWeekend     64.1244\n",
              "Quartile              NA\n",
              "Name: Rhode Island, dtype: object"
            ]
          },
          "execution_count": 40,
          "metadata": {},
          "output_type": "execute_result"
        }
      ],
      "source": [
        "pca_df['AdultWeekend'].fillna(pca_df.AdultWeekend.mean(), inplace=True)\n",
        "pca_df['Quartile'] = pca_df['Quartile'].cat.add_categories('NA')\n",
        "pca_df['Quartile'].fillna('NA', inplace=True)\n",
        "pca_df.loc['Rhode Island']"
      ]
    },
    {
      "cell_type": "markdown",
      "metadata": {
        "id": "VhuSXQ4BAZCj"
      },
      "source": [
        "Note, in the above Quartile has the string value 'NA' that you inserted. This is different to `numpy`'s NaN type.\n",
        "\n",
        "You now have enough information to recreate the scatterplot, now adding marker size for ticket price and colour for the discrete quartile."
      ]
    },
    {
      "cell_type": "markdown",
      "metadata": {
        "id": "pbuf8XXnAZCk"
      },
      "source": [
        "Notice in the code below how you're iterating over each quartile and plotting the points in the same quartile group as one. This gives a list of quartiles for an informative legend with points coloured by quartile and sized by ticket price (higher prices are represented by larger point markers)."
      ]
    },
    {
      "cell_type": "code",
      "execution_count": null,
      "metadata": {
        "id": "TLl_oLvbAZCk",
        "outputId": "43b0c163-80e3-44b9-b08d-c878a151c941"
      },
      "outputs": [
        {
          "data": {
            "image/png": "[encoded data removed]",
            "text/plain": [
              "<Figure size 720x576 with 1 Axes>"
            ]
          },
          "metadata": {
            "needs_background": "light"
          },
          "output_type": "display_data"
        }
      ],
      "source": [
        "x = pca_df.PC1\n",
        "y = pca_df.PC2\n",
        "price = pca_df.AdultWeekend\n",
        "quartiles = pca_df.Quartile\n",
        "state = pca_df.index\n",
        "pc_var = 100 * state_pca.explained_variance_ratio_.cumsum()[1]\n",
        "fig, ax = plt.subplots(figsize=(10,8))\n",
        "for q in quartiles.cat.categories:\n",
        "    im = quartiles == q\n",
        "    ax.scatter(x=x[im], y=y[im], s=price[im], label=q)\n",
        "ax.set_xlabel('First component')\n",
        "ax.set_ylabel('Second component')\n",
        "plt.legend()\n",
        "ax.set_title(f'Ski states summary PCA, {pc_var:.1f}% variance explained')\n",
        "for s, x, y in zip(state, x, y):\n",
        "    plt.annotate(s, (x, y))"
      ]
    },
    {
      "cell_type": "markdown",
      "metadata": {
        "id": "Q4wnPfMBAZCl"
      },
      "source": [
        "Now, you see the same distribution of states as before, but with additional information about the average price. There isn't an obvious pattern. The red points representing the upper quartile of price can be seen to the left, the right, and up top. There's also a spread of the other quartiles as well. In this representation of the ski summaries for each state, which accounts for some 77% of the variance, you simply do not seeing a pattern with price."
      ]
    },
    {
      "cell_type": "markdown",
      "metadata": {
        "id": "N024e_TiAZCl"
      },
      "source": [
        "The above scatterplot was created using matplotlib. This is powerful, but took quite a bit of effort to set up. You have to iterate over the categories, plotting each separately, to get a colour legend. You can also tell that the points in the legend have different sizes as well as colours. As it happens, the size and the colour will be a 1:1 mapping here, so it happily works for us here. If we were using size and colour to display fundamentally different aesthetics, you'd have a lot more work to do. So matplotlib is powerful, but not ideally suited to when we want to visually explore multiple features as here (and intelligent use of colour, point size, and even shape can be incredibly useful for EDA).\n",
        "\n",
        "Fortunately, there's another option: seaborn. You saw seaborn in action in the previous notebook, when you wanted to distinguish between weekend and weekday ticket prices in the boxplot. After melting the dataframe to have ticket price as a single column with the ticket type represented in a new column, you asked seaborn to create separate boxes for each type."
      ]
    },
    {
      "cell_type": "code",
      "execution_count": null,
      "metadata": {
        "id": "rIEtT2LQAZCm"
      },
      "outputs": [],
      "source": [
        "#Code task 11#\n",
        "#Create a seaborn scatterplot by calling `sns.scatterplot`\n",
        "#Specify the dataframe pca_df as the source of the data,\n",
        "#specify 'PC1' for x and 'PC2' for y,\n",
        "#specify 'AdultWeekend' for the pointsize (scatterplot's `size` argument),\n",
        "#specify 'Quartile' for `hue`\n",
        "#specify pca_df.Quartile.cat.categories for `hue_order` - what happens with/without this?\n",
        "x = pca_df.PC1\n",
        "y = pca_df.PC2\n",
        "state = pca_df.index\n",
        "plt.subplots(figsize=(12, 10))\n",
        "# Note the argument below to make sure we get the colours in the ascending\n",
        "# order we intuitively expect!\n",
        "sns.___(x=___, y=___, size=___, hue=___, \n",
        "                hue_order=___, data=pca_df)\n",
        "#and we can still annotate with the state labels\n",
        "for s, x, y in zip(state, x, y):\n",
        "    plt.annotate(s, (x, y))   \n",
        "plt.title(f'Ski states summary PCA, {pc_var:.1f}% variance explained');"
      ]
    },
    {
      "cell_type": "markdown",
      "metadata": {
        "id": "VB73w2IrAZCm"
      },
      "source": [
        "Seaborn does more! You should always care about your output. What if you want the ordering of the colours in the legend to align intuitively with the ordering of the quartiles? Add a `hue_order` argument! Seaborn has thrown in a few nice other things:\n",
        "\n",
        "* the aesthetics are separated in the legend\n",
        "* it defaults to marker sizes that provide more contrast (smaller to larger)\n",
        "* when starting with a DataFrame, you have less work to do to visualize patterns in the data\n",
        "\n",
        "The last point is important. Less work means less chance of mixing up objects and jumping to erroneous conclusions. This also emphasizes the importance of getting data into a suitable DataFrame. In the previous notebook, you `melt`ed the data to make it longer, but with fewer columns, in order to get a single column of price with a new column representing a categorical feature you'd want to use. A **key skill** is being able to wrangle data into a form most suited to the particular use case."
      ]
    },
    {
      "cell_type": "markdown",
      "metadata": {
        "id": "6rlJcbtBAZCn"
      },
      "source": [
        "Having gained a good visualization of the state summary data, you can discuss and follow up on your findings."
      ]
    },
    {
      "cell_type": "markdown",
      "metadata": {
        "id": "DjzMRy3EAZCn"
      },
      "source": [
        "In the first two components, there is a spread of states across the first component. It looks like Vermont and New Hampshire might be off on their own a little in the second dimension, although they're really no more extreme than New York and Colorado are in the first dimension. But if you were curious, could you get an idea what it is that pushes Vermont and New Hampshire up?\n",
        "\n",
        "The `components_` attribute of the fitted PCA object tell us how important (and in what direction) each feature contributes to each score (or coordinate on the plot). **NB we were sensible and scaled our original features (to zero mean and unit variance)**. You may not always be interested in interpreting the coefficients of the PCA transformation in this way, although it's more likely you will when using PCA for EDA as opposed to a preprocessing step as part of a machine learning pipeline. The attribute is actually a numpy ndarray, and so has been stripped of helpful index and column names. Fortunately, you thought ahead and saved these. This is how we were able to annotate the scatter plots above. It also means you can construct a DataFrame of `components_` with the feature names for context:"
      ]
    },
    {
      "cell_type": "code",
      "execution_count": null,
      "metadata": {
        "id": "-poQ4VweAZCo",
        "outputId": "262ded48-e50f-429d-f075-1316806c2097"
      },
      "outputs": [
        {
          "data": {
            "text/html": [
              "<div>\n",
              "<style scoped>\n",
              "    .dataframe tbody tr th:only-of-type {\n",
              "        vertical-align: middle;\n",
              "    }\n",
              "\n",
              "    .dataframe tbody tr th {\n",
              "        vertical-align: top;\n",
              "    }\n",
              "\n",
              "    .dataframe thead th {\n",
              "        text-align: right;\n",
              "    }\n",
              "</style>\n",
              "<table border=\"1\" class=\"dataframe\">\n",
              "  <thead>\n",
              "    <tr style=\"text-align: right;\">\n",
              "      <th></th>\n",
              "      <th>resorts_per_state</th>\n",
              "      <th>state_total_skiable_area_ac</th>\n",
              "      <th>state_total_days_open</th>\n",
              "      <th>state_total_terrain_parks</th>\n",
              "      <th>state_total_nightskiing_ac</th>\n",
              "      <th>resorts_per_100kcapita</th>\n",
              "      <th>resorts_per_100ksq_mile</th>\n",
              "    </tr>\n",
              "  </thead>\n",
              "  <tbody>\n",
              "    <tr>\n",
              "      <th>0</th>\n",
              "      <td>0.486079</td>\n",
              "      <td>0.318224</td>\n",
              "      <td>0.489997</td>\n",
              "      <td>0.488420</td>\n",
              "      <td>0.334398</td>\n",
              "      <td>0.187154</td>\n",
              "      <td>0.192250</td>\n",
              "    </tr>\n",
              "    <tr>\n",
              "      <th>1</th>\n",
              "      <td>-0.085092</td>\n",
              "      <td>-0.142204</td>\n",
              "      <td>-0.045071</td>\n",
              "      <td>-0.041939</td>\n",
              "      <td>-0.351064</td>\n",
              "      <td>0.662458</td>\n",
              "      <td>0.637691</td>\n",
              "    </tr>\n",
              "    <tr>\n",
              "      <th>2</th>\n",
              "      <td>-0.177937</td>\n",
              "      <td>0.714835</td>\n",
              "      <td>0.115200</td>\n",
              "      <td>0.005509</td>\n",
              "      <td>-0.511255</td>\n",
              "      <td>0.220359</td>\n",
              "      <td>-0.366207</td>\n",
              "    </tr>\n",
              "    <tr>\n",
              "      <th>3</th>\n",
              "      <td>0.056163</td>\n",
              "      <td>-0.118347</td>\n",
              "      <td>-0.162625</td>\n",
              "      <td>-0.177072</td>\n",
              "      <td>0.438912</td>\n",
              "      <td>0.685417</td>\n",
              "      <td>-0.512443</td>\n",
              "    </tr>\n",
              "    <tr>\n",
              "      <th>4</th>\n",
              "      <td>-0.209186</td>\n",
              "      <td>0.573462</td>\n",
              "      <td>-0.250521</td>\n",
              "      <td>-0.388608</td>\n",
              "      <td>0.499801</td>\n",
              "      <td>-0.065077</td>\n",
              "      <td>0.399461</td>\n",
              "    </tr>\n",
              "    <tr>\n",
              "      <th>5</th>\n",
              "      <td>-0.818390</td>\n",
              "      <td>-0.092319</td>\n",
              "      <td>0.238198</td>\n",
              "      <td>0.448118</td>\n",
              "      <td>0.246196</td>\n",
              "      <td>0.058911</td>\n",
              "      <td>-0.009146</td>\n",
              "    </tr>\n",
              "    <tr>\n",
              "      <th>6</th>\n",
              "      <td>-0.090273</td>\n",
              "      <td>-0.127021</td>\n",
              "      <td>0.773728</td>\n",
              "      <td>-0.613576</td>\n",
              "      <td>0.022185</td>\n",
              "      <td>-0.007887</td>\n",
              "      <td>-0.005631</td>\n",
              "    </tr>\n",
              "  </tbody>\n",
              "</table>\n",
              "</div>"
            ],
            "text/plain": [
              "   resorts_per_state  state_total_skiable_area_ac  state_total_days_open  \\\n",
              "0           0.486079                     0.318224               0.489997   \n",
              "1          -0.085092                    -0.142204              -0.045071   \n",
              "2          -0.177937                     0.714835               0.115200   \n",
              "3           0.056163                    -0.118347              -0.162625   \n",
              "4          -0.209186                     0.573462              -0.250521   \n",
              "5          -0.818390                    -0.092319               0.238198   \n",
              "6          -0.090273                    -0.127021               0.773728   \n",
              "\n",
              "   state_total_terrain_parks  state_total_nightskiing_ac  \\\n",
              "0                   0.488420                    0.334398   \n",
              "1                  -0.041939                   -0.351064   \n",
              "2                   0.005509                   -0.511255   \n",
              "3                  -0.177072                    0.438912   \n",
              "4                  -0.388608                    0.499801   \n",
              "5                   0.448118                    0.246196   \n",
              "6                  -0.613576                    0.022185   \n",
              "\n",
              "   resorts_per_100kcapita  resorts_per_100ksq_mile  \n",
              "0                0.187154                 0.192250  \n",
              "1                0.662458                 0.637691  \n",
              "2                0.220359                -0.366207  \n",
              "3                0.685417                -0.512443  \n",
              "4               -0.065077                 0.399461  \n",
              "5                0.058911                -0.009146  \n",
              "6               -0.007887                -0.005631  "
            ]
          },
          "execution_count": 43,
          "metadata": {},
          "output_type": "execute_result"
        }
      ],
      "source": [
        "pd.DataFrame(state_pca.components_, columns=state_summary_columns)"
      ]
    },
    {
      "cell_type": "markdown",
      "metadata": {
        "id": "fi6YezJyAZCo"
      },
      "source": [
        "For the row associated with the second component, are there any large values?"
      ]
    },
    {
      "cell_type": "markdown",
      "metadata": {
        "id": "6oQMiZDkAZCp"
      },
      "source": [
        "It looks like `resorts_per_100kcapita` and `resorts_per_100ksq_mile` might count for quite a lot, in a positive sense. Be aware that sign matters; a large negative coefficient multiplying a large negative feature will actually produce a large positive PCA score."
      ]
    },
    {
      "cell_type": "code",
      "execution_count": null,
      "metadata": {
        "id": "C6Tmcc3OAZCp",
        "outputId": "5f2eef4f-cb30-4ad6-9df6-a0cf6443a0a1"
      },
      "outputs": [
        {
          "data": {
            "text/html": [
              "<div>\n",
              "<style scoped>\n",
              "    .dataframe tbody tr th:only-of-type {\n",
              "        vertical-align: middle;\n",
              "    }\n",
              "\n",
              "    .dataframe tbody tr th {\n",
              "        vertical-align: top;\n",
              "    }\n",
              "\n",
              "    .dataframe thead th {\n",
              "        text-align: right;\n",
              "    }\n",
              "</style>\n",
              "<table border=\"1\" class=\"dataframe\">\n",
              "  <thead>\n",
              "    <tr style=\"text-align: right;\">\n",
              "      <th></th>\n",
              "      <th>17</th>\n",
              "      <th>29</th>\n",
              "    </tr>\n",
              "  </thead>\n",
              "  <tbody>\n",
              "    <tr>\n",
              "      <th>state</th>\n",
              "      <td>New Hampshire</td>\n",
              "      <td>Vermont</td>\n",
              "    </tr>\n",
              "    <tr>\n",
              "      <th>resorts_per_state</th>\n",
              "      <td>16</td>\n",
              "      <td>15</td>\n",
              "    </tr>\n",
              "    <tr>\n",
              "      <th>state_total_skiable_area_ac</th>\n",
              "      <td>3427</td>\n",
              "      <td>7239</td>\n",
              "    </tr>\n",
              "    <tr>\n",
              "      <th>state_total_days_open</th>\n",
              "      <td>1847</td>\n",
              "      <td>1777</td>\n",
              "    </tr>\n",
              "    <tr>\n",
              "      <th>state_total_terrain_parks</th>\n",
              "      <td>43</td>\n",
              "      <td>50</td>\n",
              "    </tr>\n",
              "    <tr>\n",
              "      <th>state_total_nightskiing_ac</th>\n",
              "      <td>376</td>\n",
              "      <td>50</td>\n",
              "    </tr>\n",
              "    <tr>\n",
              "      <th>resorts_per_100kcapita</th>\n",
              "      <td>1.17672</td>\n",
              "      <td>2.40389</td>\n",
              "    </tr>\n",
              "    <tr>\n",
              "      <th>resorts_per_100ksq_mile</th>\n",
              "      <td>171.141</td>\n",
              "      <td>155.99</td>\n",
              "    </tr>\n",
              "  </tbody>\n",
              "</table>\n",
              "</div>"
            ],
            "text/plain": [
              "                                        17       29\n",
              "state                        New Hampshire  Vermont\n",
              "resorts_per_state                       16       15\n",
              "state_total_skiable_area_ac           3427     7239\n",
              "state_total_days_open                 1847     1777\n",
              "state_total_terrain_parks               43       50\n",
              "state_total_nightskiing_ac             376       50\n",
              "resorts_per_100kcapita             1.17672  2.40389\n",
              "resorts_per_100ksq_mile            171.141   155.99"
            ]
          },
          "execution_count": 44,
          "metadata": {},
          "output_type": "execute_result"
        }
      ],
      "source": [
        "state_summary[state_summary.state.isin(['New Hampshire', 'Vermont'])].T"
      ]
    },
    {
      "cell_type": "code",
      "execution_count": null,
      "metadata": {
        "id": "94D9d1WpAZCq",
        "outputId": "9653740d-e275-4edc-da20-fec8fa6dbd39"
      },
      "outputs": [
        {
          "data": {
            "text/html": [
              "<div>\n",
              "<style scoped>\n",
              "    .dataframe tbody tr th:only-of-type {\n",
              "        vertical-align: middle;\n",
              "    }\n",
              "\n",
              "    .dataframe tbody tr th {\n",
              "        vertical-align: top;\n",
              "    }\n",
              "\n",
              "    .dataframe thead th {\n",
              "        text-align: right;\n",
              "    }\n",
              "</style>\n",
              "<table border=\"1\" class=\"dataframe\">\n",
              "  <thead>\n",
              "    <tr style=\"text-align: right;\">\n",
              "      <th></th>\n",
              "      <th>17</th>\n",
              "      <th>29</th>\n",
              "    </tr>\n",
              "  </thead>\n",
              "  <tbody>\n",
              "    <tr>\n",
              "      <th>resorts_per_state</th>\n",
              "      <td>0.839478</td>\n",
              "      <td>0.712833</td>\n",
              "    </tr>\n",
              "    <tr>\n",
              "      <th>state_total_skiable_area_ac</th>\n",
              "      <td>-0.277128</td>\n",
              "      <td>0.104681</td>\n",
              "    </tr>\n",
              "    <tr>\n",
              "      <th>state_total_days_open</th>\n",
              "      <td>1.118608</td>\n",
              "      <td>1.034363</td>\n",
              "    </tr>\n",
              "    <tr>\n",
              "      <th>state_total_terrain_parks</th>\n",
              "      <td>0.921793</td>\n",
              "      <td>1.233725</td>\n",
              "    </tr>\n",
              "    <tr>\n",
              "      <th>state_total_nightskiing_ac</th>\n",
              "      <td>-0.245050</td>\n",
              "      <td>-0.747570</td>\n",
              "    </tr>\n",
              "    <tr>\n",
              "      <th>resorts_per_100kcapita</th>\n",
              "      <td>1.711066</td>\n",
              "      <td>4.226572</td>\n",
              "    </tr>\n",
              "    <tr>\n",
              "      <th>resorts_per_100ksq_mile</th>\n",
              "      <td>3.483281</td>\n",
              "      <td>3.112841</td>\n",
              "    </tr>\n",
              "  </tbody>\n",
              "</table>\n",
              "</div>"
            ],
            "text/plain": [
              "                                   17        29\n",
              "resorts_per_state            0.839478  0.712833\n",
              "state_total_skiable_area_ac -0.277128  0.104681\n",
              "state_total_days_open        1.118608  1.034363\n",
              "state_total_terrain_parks    0.921793  1.233725\n",
              "state_total_nightskiing_ac  -0.245050 -0.747570\n",
              "resorts_per_100kcapita       1.711066  4.226572\n",
              "resorts_per_100ksq_mile      3.483281  3.112841"
            ]
          },
          "execution_count": 45,
          "metadata": {},
          "output_type": "execute_result"
        }
      ],
      "source": [
        "state_summary_scaled_df[state_summary.state.isin(['New Hampshire', 'Vermont'])].T"
      ]
    },
    {
      "cell_type": "markdown",
      "metadata": {
        "id": "VRVhLPzUAZCq"
      },
      "source": [
        "So, yes, both states have particularly large values of `resorts_per_100ksq_mile` in absolute terms, and these put them more than 3 standard deviations from the mean. Vermont also has a notably large value for `resorts_per_100kcapita`. New York, then, does not seem to be a stand-out for density of ski resorts either in terms of state size or population count."
      ]
    },
    {
      "cell_type": "markdown",
      "metadata": {
        "id": "JXzzAuYxAZCr"
      },
      "source": [
        "### 3.5.4 Conclusion On How To Handle State Label<a id='3.5.4_Conclusion_On_How_To_Handle_State_Label'></a>"
      ]
    },
    {
      "cell_type": "markdown",
      "metadata": {
        "id": "L27_tOMNAZCr"
      },
      "source": [
        "You can offer some justification for treating all states equally, and work towards building a pricing model that considers all states together, without treating any one particularly specially. You haven't seen any clear grouping yet, but you have captured potentially relevant state data in features most likely to be relevant to your business use case. This answers a big question!"
      ]
    },
    {
      "cell_type": "markdown",
      "metadata": {
        "id": "K3VytaaUAZCs"
      },
      "source": [
        "### 3.5.5 Ski Resort Numeric Data<a id='3.5.5_Ski_Resort_Numeric_Data'></a>"
      ]
    },
    {
      "cell_type": "code",
      "execution_count": null,
      "metadata": {
        "id": "cffzUZLIAZCs"
      },
      "outputs": [],
      "source": []
    },
    {
      "cell_type": "markdown",
      "metadata": {
        "id": "ttvOKhLMAZCt"
      },
      "source": [
        "After what may feel a detour, return to examining the ski resort data. It's worth noting, the previous EDA was valuable because it's given us some potentially useful features, as well as validating an approach for how to subsequently handle the state labels in your modeling."
      ]
    },
    {
      "cell_type": "code",
      "execution_count": null,
      "metadata": {
        "id": "7IHWLzXVAZCt",
        "outputId": "5ab9557a-587b-4812-d617-23c7cccb6559"
      },
      "outputs": [
        {
          "data": {
            "text/html": [
              "<div>\n",
              "<style scoped>\n",
              "    .dataframe tbody tr th:only-of-type {\n",
              "        vertical-align: middle;\n",
              "    }\n",
              "\n",
              "    .dataframe tbody tr th {\n",
              "        vertical-align: top;\n",
              "    }\n",
              "\n",
              "    .dataframe thead th {\n",
              "        text-align: right;\n",
              "    }\n",
              "</style>\n",
              "<table border=\"1\" class=\"dataframe\">\n",
              "  <thead>\n",
              "    <tr style=\"text-align: right;\">\n",
              "      <th></th>\n",
              "      <th>0</th>\n",
              "      <th>1</th>\n",
              "      <th>2</th>\n",
              "      <th>3</th>\n",
              "      <th>4</th>\n",
              "    </tr>\n",
              "  </thead>\n",
              "  <tbody>\n",
              "    <tr>\n",
              "      <th>Name</th>\n",
              "      <td>Alyeska Resort</td>\n",
              "      <td>Eaglecrest Ski Area</td>\n",
              "      <td>Hilltop Ski Area</td>\n",
              "      <td>Arizona Snowbowl</td>\n",
              "      <td>Sunrise Park Resort</td>\n",
              "    </tr>\n",
              "    <tr>\n",
              "      <th>Region</th>\n",
              "      <td>Alaska</td>\n",
              "      <td>Alaska</td>\n",
              "      <td>Alaska</td>\n",
              "      <td>Arizona</td>\n",
              "      <td>Arizona</td>\n",
              "    </tr>\n",
              "    <tr>\n",
              "      <th>state</th>\n",
              "      <td>Alaska</td>\n",
              "      <td>Alaska</td>\n",
              "      <td>Alaska</td>\n",
              "      <td>Arizona</td>\n",
              "      <td>Arizona</td>\n",
              "    </tr>\n",
              "    <tr>\n",
              "      <th>summit_elev</th>\n",
              "      <td>3939</td>\n",
              "      <td>2600</td>\n",
              "      <td>2090</td>\n",
              "      <td>11500</td>\n",
              "      <td>11100</td>\n",
              "    </tr>\n",
              "    <tr>\n",
              "      <th>vertical_drop</th>\n",
              "      <td>2500</td>\n",
              "      <td>1540</td>\n",
              "      <td>294</td>\n",
              "      <td>2300</td>\n",
              "      <td>1800</td>\n",
              "    </tr>\n",
              "    <tr>\n",
              "      <th>base_elev</th>\n",
              "      <td>250</td>\n",
              "      <td>1200</td>\n",
              "      <td>1796</td>\n",
              "      <td>9200</td>\n",
              "      <td>9200</td>\n",
              "    </tr>\n",
              "    <tr>\n",
              "      <th>trams</th>\n",
              "      <td>1</td>\n",
              "      <td>0</td>\n",
              "      <td>0</td>\n",
              "      <td>0</td>\n",
              "      <td>0</td>\n",
              "    </tr>\n",
              "    <tr>\n",
              "      <th>fastSixes</th>\n",
              "      <td>0</td>\n",
              "      <td>0</td>\n",
              "      <td>0</td>\n",
              "      <td>1</td>\n",
              "      <td>0</td>\n",
              "    </tr>\n",
              "    <tr>\n",
              "      <th>fastQuads</th>\n",
              "      <td>2</td>\n",
              "      <td>0</td>\n",
              "      <td>0</td>\n",
              "      <td>0</td>\n",
              "      <td>1</td>\n",
              "    </tr>\n",
              "    <tr>\n",
              "      <th>quad</th>\n",
              "      <td>2</td>\n",
              "      <td>0</td>\n",
              "      <td>0</td>\n",
              "      <td>2</td>\n",
              "      <td>2</td>\n",
              "    </tr>\n",
              "    <tr>\n",
              "      <th>triple</th>\n",
              "      <td>0</td>\n",
              "      <td>0</td>\n",
              "      <td>1</td>\n",
              "      <td>2</td>\n",
              "      <td>3</td>\n",
              "    </tr>\n",
              "    <tr>\n",
              "      <th>double</th>\n",
              "      <td>0</td>\n",
              "      <td>4</td>\n",
              "      <td>0</td>\n",
              "      <td>1</td>\n",
              "      <td>1</td>\n",
              "    </tr>\n",
              "    <tr>\n",
              "      <th>surface</th>\n",
              "      <td>2</td>\n",
              "      <td>0</td>\n",
              "      <td>2</td>\n",
              "      <td>2</td>\n",
              "      <td>0</td>\n",
              "    </tr>\n",
              "    <tr>\n",
              "      <th>total_chairs</th>\n",
              "      <td>7</td>\n",
              "      <td>4</td>\n",
              "      <td>3</td>\n",
              "      <td>8</td>\n",
              "      <td>7</td>\n",
              "    </tr>\n",
              "    <tr>\n",
              "      <th>Runs</th>\n",
              "      <td>76</td>\n",
              "      <td>36</td>\n",
              "      <td>13</td>\n",
              "      <td>55</td>\n",
              "      <td>65</td>\n",
              "    </tr>\n",
              "    <tr>\n",
              "      <th>TerrainParks</th>\n",
              "      <td>2</td>\n",
              "      <td>1</td>\n",
              "      <td>1</td>\n",
              "      <td>4</td>\n",
              "      <td>2</td>\n",
              "    </tr>\n",
              "    <tr>\n",
              "      <th>LongestRun_mi</th>\n",
              "      <td>1</td>\n",
              "      <td>2</td>\n",
              "      <td>1</td>\n",
              "      <td>2</td>\n",
              "      <td>1.2</td>\n",
              "    </tr>\n",
              "    <tr>\n",
              "      <th>SkiableTerrain_ac</th>\n",
              "      <td>1610</td>\n",
              "      <td>640</td>\n",
              "      <td>30</td>\n",
              "      <td>777</td>\n",
              "      <td>800</td>\n",
              "    </tr>\n",
              "    <tr>\n",
              "      <th>Snow Making_ac</th>\n",
              "      <td>113</td>\n",
              "      <td>60</td>\n",
              "      <td>30</td>\n",
              "      <td>104</td>\n",
              "      <td>80</td>\n",
              "    </tr>\n",
              "    <tr>\n",
              "      <th>daysOpenLastYear</th>\n",
              "      <td>150</td>\n",
              "      <td>45</td>\n",
              "      <td>150</td>\n",
              "      <td>122</td>\n",
              "      <td>115</td>\n",
              "    </tr>\n",
              "    <tr>\n",
              "      <th>yearsOpen</th>\n",
              "      <td>60</td>\n",
              "      <td>44</td>\n",
              "      <td>36</td>\n",
              "      <td>81</td>\n",
              "      <td>49</td>\n",
              "    </tr>\n",
              "    <tr>\n",
              "      <th>averageSnowfall</th>\n",
              "      <td>669</td>\n",
              "      <td>350</td>\n",
              "      <td>69</td>\n",
              "      <td>260</td>\n",
              "      <td>250</td>\n",
              "    </tr>\n",
              "    <tr>\n",
              "      <th>AdultWeekend</th>\n",
              "      <td>85</td>\n",
              "      <td>53</td>\n",
              "      <td>34</td>\n",
              "      <td>89</td>\n",
              "      <td>78</td>\n",
              "    </tr>\n",
              "    <tr>\n",
              "      <th>projectedDaysOpen</th>\n",
              "      <td>150</td>\n",
              "      <td>90</td>\n",
              "      <td>152</td>\n",
              "      <td>122</td>\n",
              "      <td>104</td>\n",
              "    </tr>\n",
              "    <tr>\n",
              "      <th>NightSkiing_ac</th>\n",
              "      <td>550</td>\n",
              "      <td>NaN</td>\n",
              "      <td>30</td>\n",
              "      <td>NaN</td>\n",
              "      <td>80</td>\n",
              "    </tr>\n",
              "  </tbody>\n",
              "</table>\n",
              "</div>"
            ],
            "text/plain": [
              "                                0                    1                 2  \\\n",
              "Name               Alyeska Resort  Eaglecrest Ski Area  Hilltop Ski Area   \n",
              "Region                     Alaska               Alaska            Alaska   \n",
              "state                      Alaska               Alaska            Alaska   \n",
              "summit_elev                  3939                 2600              2090   \n",
              "vertical_drop                2500                 1540               294   \n",
              "base_elev                     250                 1200              1796   \n",
              "trams                           1                    0                 0   \n",
              "fastSixes                       0                    0                 0   \n",
              "fastQuads                       2                    0                 0   \n",
              "quad                            2                    0                 0   \n",
              "triple                          0                    0                 1   \n",
              "double                          0                    4                 0   \n",
              "surface                         2                    0                 2   \n",
              "total_chairs                    7                    4                 3   \n",
              "Runs                           76                   36                13   \n",
              "TerrainParks                    2                    1                 1   \n",
              "LongestRun_mi                   1                    2                 1   \n",
              "SkiableTerrain_ac            1610                  640                30   \n",
              "Snow Making_ac                113                   60                30   \n",
              "daysOpenLastYear              150                   45               150   \n",
              "yearsOpen                      60                   44                36   \n",
              "averageSnowfall               669                  350                69   \n",
              "AdultWeekend                   85                   53                34   \n",
              "projectedDaysOpen             150                   90               152   \n",
              "NightSkiing_ac                550                  NaN                30   \n",
              "\n",
              "                                  3                    4  \n",
              "Name               Arizona Snowbowl  Sunrise Park Resort  \n",
              "Region                      Arizona              Arizona  \n",
              "state                       Arizona              Arizona  \n",
              "summit_elev                   11500                11100  \n",
              "vertical_drop                  2300                 1800  \n",
              "base_elev                      9200                 9200  \n",
              "trams                             0                    0  \n",
              "fastSixes                         1                    0  \n",
              "fastQuads                         0                    1  \n",
              "quad                              2                    2  \n",
              "triple                            2                    3  \n",
              "double                            1                    1  \n",
              "surface                           2                    0  \n",
              "total_chairs                      8                    7  \n",
              "Runs                             55                   65  \n",
              "TerrainParks                      4                    2  \n",
              "LongestRun_mi                     2                  1.2  \n",
              "SkiableTerrain_ac               777                  800  \n",
              "Snow Making_ac                  104                   80  \n",
              "daysOpenLastYear                122                  115  \n",
              "yearsOpen                        81                   49  \n",
              "averageSnowfall                 260                  250  \n",
              "AdultWeekend                     89                   78  \n",
              "projectedDaysOpen               122                  104  \n",
              "NightSkiing_ac                  NaN                   80  "
            ]
          },
          "execution_count": 46,
          "metadata": {},
          "output_type": "execute_result"
        }
      ],
      "source": [
        "ski_data.head().T"
      ]
    },
    {
      "cell_type": "markdown",
      "metadata": {
        "id": "mgVDOwXqAZCu"
      },
      "source": [
        "#### 3.5.5.1 Feature engineering<a id='3.5.5.1_Feature_engineering'></a>"
      ]
    },
    {
      "cell_type": "markdown",
      "metadata": {
        "id": "hb_uhwXzAZCu"
      },
      "source": [
        "Having previously spent some time exploring the state summary data you derived, you now start to explore the resort-level data in more detail. This can help guide you on how (or whether) to use the state labels in the data. It's now time to merge the two datasets and engineer some intuitive features. For example, you can engineer a resort's share of the supply for a given state."
      ]
    },
    {
      "cell_type": "code",
      "execution_count": null,
      "metadata": {
        "id": "FbflpTR0AZCv",
        "outputId": "4eee94d1-770b-4c6a-abab-4ff4ef80fef1"
      },
      "outputs": [
        {
          "data": {
            "text/html": [
              "<div>\n",
              "<style scoped>\n",
              "    .dataframe tbody tr th:only-of-type {\n",
              "        vertical-align: middle;\n",
              "    }\n",
              "\n",
              "    .dataframe tbody tr th {\n",
              "        vertical-align: top;\n",
              "    }\n",
              "\n",
              "    .dataframe thead th {\n",
              "        text-align: right;\n",
              "    }\n",
              "</style>\n",
              "<table border=\"1\" class=\"dataframe\">\n",
              "  <thead>\n",
              "    <tr style=\"text-align: right;\">\n",
              "      <th></th>\n",
              "      <th>state</th>\n",
              "      <th>resorts_per_state</th>\n",
              "      <th>state_total_skiable_area_ac</th>\n",
              "      <th>state_total_days_open</th>\n",
              "      <th>state_total_terrain_parks</th>\n",
              "      <th>state_total_nightskiing_ac</th>\n",
              "      <th>resorts_per_100kcapita</th>\n",
              "      <th>resorts_per_100ksq_mile</th>\n",
              "    </tr>\n",
              "  </thead>\n",
              "  <tbody>\n",
              "    <tr>\n",
              "      <th>0</th>\n",
              "      <td>Alaska</td>\n",
              "      <td>3</td>\n",
              "      <td>2280.0</td>\n",
              "      <td>345.0</td>\n",
              "      <td>4.0</td>\n",
              "      <td>580.0</td>\n",
              "      <td>0.410091</td>\n",
              "      <td>0.450867</td>\n",
              "    </tr>\n",
              "    <tr>\n",
              "      <th>1</th>\n",
              "      <td>Arizona</td>\n",
              "      <td>2</td>\n",
              "      <td>1577.0</td>\n",
              "      <td>237.0</td>\n",
              "      <td>6.0</td>\n",
              "      <td>80.0</td>\n",
              "      <td>0.027477</td>\n",
              "      <td>1.754540</td>\n",
              "    </tr>\n",
              "    <tr>\n",
              "      <th>2</th>\n",
              "      <td>California</td>\n",
              "      <td>21</td>\n",
              "      <td>25948.0</td>\n",
              "      <td>2738.0</td>\n",
              "      <td>81.0</td>\n",
              "      <td>587.0</td>\n",
              "      <td>0.053148</td>\n",
              "      <td>12.828736</td>\n",
              "    </tr>\n",
              "    <tr>\n",
              "      <th>3</th>\n",
              "      <td>Colorado</td>\n",
              "      <td>22</td>\n",
              "      <td>43682.0</td>\n",
              "      <td>3258.0</td>\n",
              "      <td>74.0</td>\n",
              "      <td>428.0</td>\n",
              "      <td>0.382028</td>\n",
              "      <td>21.134744</td>\n",
              "    </tr>\n",
              "    <tr>\n",
              "      <th>4</th>\n",
              "      <td>Connecticut</td>\n",
              "      <td>5</td>\n",
              "      <td>358.0</td>\n",
              "      <td>353.0</td>\n",
              "      <td>10.0</td>\n",
              "      <td>256.0</td>\n",
              "      <td>0.140242</td>\n",
              "      <td>90.203861</td>\n",
              "    </tr>\n",
              "  </tbody>\n",
              "</table>\n",
              "</div>"
            ],
            "text/plain": [
              "         state  resorts_per_state  state_total_skiable_area_ac  \\\n",
              "0       Alaska                  3                       2280.0   \n",
              "1      Arizona                  2                       1577.0   \n",
              "2   California                 21                      25948.0   \n",
              "3     Colorado                 22                      43682.0   \n",
              "4  Connecticut                  5                        358.0   \n",
              "\n",
              "   state_total_days_open  state_total_terrain_parks  \\\n",
              "0                  345.0                        4.0   \n",
              "1                  237.0                        6.0   \n",
              "2                 2738.0                       81.0   \n",
              "3                 3258.0                       74.0   \n",
              "4                  353.0                       10.0   \n",
              "\n",
              "   state_total_nightskiing_ac  resorts_per_100kcapita  resorts_per_100ksq_mile  \n",
              "0                       580.0                0.410091                 0.450867  \n",
              "1                        80.0                0.027477                 1.754540  \n",
              "2                       587.0                0.053148                12.828736  \n",
              "3                       428.0                0.382028                21.134744  \n",
              "4                       256.0                0.140242                90.203861  "
            ]
          },
          "execution_count": 47,
          "metadata": {},
          "output_type": "execute_result"
        }
      ],
      "source": [
        "state_summary.head()"
      ]
    },
    {
      "cell_type": "code",
      "execution_count": null,
      "metadata": {
        "id": "lgCvmWgiAZCv",
        "outputId": "119aa548-f745-41ca-ef35-d2406da7d1a0"
      },
      "outputs": [
        {
          "data": {
            "text/html": [
              "<div>\n",
              "<style scoped>\n",
              "    .dataframe tbody tr th:only-of-type {\n",
              "        vertical-align: middle;\n",
              "    }\n",
              "\n",
              "    .dataframe tbody tr th {\n",
              "        vertical-align: top;\n",
              "    }\n",
              "\n",
              "    .dataframe thead th {\n",
              "        text-align: right;\n",
              "    }\n",
              "</style>\n",
              "<table border=\"1\" class=\"dataframe\">\n",
              "  <thead>\n",
              "    <tr style=\"text-align: right;\">\n",
              "      <th></th>\n",
              "      <th>0</th>\n",
              "      <th>1</th>\n",
              "      <th>2</th>\n",
              "      <th>3</th>\n",
              "      <th>4</th>\n",
              "    </tr>\n",
              "  </thead>\n",
              "  <tbody>\n",
              "    <tr>\n",
              "      <th>Name</th>\n",
              "      <td>Alyeska Resort</td>\n",
              "      <td>Eaglecrest Ski Area</td>\n",
              "      <td>Hilltop Ski Area</td>\n",
              "      <td>Arizona Snowbowl</td>\n",
              "      <td>Sunrise Park Resort</td>\n",
              "    </tr>\n",
              "    <tr>\n",
              "      <th>Region</th>\n",
              "      <td>Alaska</td>\n",
              "      <td>Alaska</td>\n",
              "      <td>Alaska</td>\n",
              "      <td>Arizona</td>\n",
              "      <td>Arizona</td>\n",
              "    </tr>\n",
              "    <tr>\n",
              "      <th>state</th>\n",
              "      <td>Alaska</td>\n",
              "      <td>Alaska</td>\n",
              "      <td>Alaska</td>\n",
              "      <td>Arizona</td>\n",
              "      <td>Arizona</td>\n",
              "    </tr>\n",
              "    <tr>\n",
              "      <th>summit_elev</th>\n",
              "      <td>3939</td>\n",
              "      <td>2600</td>\n",
              "      <td>2090</td>\n",
              "      <td>11500</td>\n",
              "      <td>11100</td>\n",
              "    </tr>\n",
              "    <tr>\n",
              "      <th>vertical_drop</th>\n",
              "      <td>2500</td>\n",
              "      <td>1540</td>\n",
              "      <td>294</td>\n",
              "      <td>2300</td>\n",
              "      <td>1800</td>\n",
              "    </tr>\n",
              "    <tr>\n",
              "      <th>base_elev</th>\n",
              "      <td>250</td>\n",
              "      <td>1200</td>\n",
              "      <td>1796</td>\n",
              "      <td>9200</td>\n",
              "      <td>9200</td>\n",
              "    </tr>\n",
              "    <tr>\n",
              "      <th>trams</th>\n",
              "      <td>1</td>\n",
              "      <td>0</td>\n",
              "      <td>0</td>\n",
              "      <td>0</td>\n",
              "      <td>0</td>\n",
              "    </tr>\n",
              "    <tr>\n",
              "      <th>fastSixes</th>\n",
              "      <td>0</td>\n",
              "      <td>0</td>\n",
              "      <td>0</td>\n",
              "      <td>1</td>\n",
              "      <td>0</td>\n",
              "    </tr>\n",
              "    <tr>\n",
              "      <th>fastQuads</th>\n",
              "      <td>2</td>\n",
              "      <td>0</td>\n",
              "      <td>0</td>\n",
              "      <td>0</td>\n",
              "      <td>1</td>\n",
              "    </tr>\n",
              "    <tr>\n",
              "      <th>quad</th>\n",
              "      <td>2</td>\n",
              "      <td>0</td>\n",
              "      <td>0</td>\n",
              "      <td>2</td>\n",
              "      <td>2</td>\n",
              "    </tr>\n",
              "    <tr>\n",
              "      <th>triple</th>\n",
              "      <td>0</td>\n",
              "      <td>0</td>\n",
              "      <td>1</td>\n",
              "      <td>2</td>\n",
              "      <td>3</td>\n",
              "    </tr>\n",
              "    <tr>\n",
              "      <th>double</th>\n",
              "      <td>0</td>\n",
              "      <td>4</td>\n",
              "      <td>0</td>\n",
              "      <td>1</td>\n",
              "      <td>1</td>\n",
              "    </tr>\n",
              "    <tr>\n",
              "      <th>surface</th>\n",
              "      <td>2</td>\n",
              "      <td>0</td>\n",
              "      <td>2</td>\n",
              "      <td>2</td>\n",
              "      <td>0</td>\n",
              "    </tr>\n",
              "    <tr>\n",
              "      <th>total_chairs</th>\n",
              "      <td>7</td>\n",
              "      <td>4</td>\n",
              "      <td>3</td>\n",
              "      <td>8</td>\n",
              "      <td>7</td>\n",
              "    </tr>\n",
              "    <tr>\n",
              "      <th>Runs</th>\n",
              "      <td>76</td>\n",
              "      <td>36</td>\n",
              "      <td>13</td>\n",
              "      <td>55</td>\n",
              "      <td>65</td>\n",
              "    </tr>\n",
              "    <tr>\n",
              "      <th>TerrainParks</th>\n",
              "      <td>2</td>\n",
              "      <td>1</td>\n",
              "      <td>1</td>\n",
              "      <td>4</td>\n",
              "      <td>2</td>\n",
              "    </tr>\n",
              "    <tr>\n",
              "      <th>LongestRun_mi</th>\n",
              "      <td>1</td>\n",
              "      <td>2</td>\n",
              "      <td>1</td>\n",
              "      <td>2</td>\n",
              "      <td>1.2</td>\n",
              "    </tr>\n",
              "    <tr>\n",
              "      <th>SkiableTerrain_ac</th>\n",
              "      <td>1610</td>\n",
              "      <td>640</td>\n",
              "      <td>30</td>\n",
              "      <td>777</td>\n",
              "      <td>800</td>\n",
              "    </tr>\n",
              "    <tr>\n",
              "      <th>Snow Making_ac</th>\n",
              "      <td>113</td>\n",
              "      <td>60</td>\n",
              "      <td>30</td>\n",
              "      <td>104</td>\n",
              "      <td>80</td>\n",
              "    </tr>\n",
              "    <tr>\n",
              "      <th>daysOpenLastYear</th>\n",
              "      <td>150</td>\n",
              "      <td>45</td>\n",
              "      <td>150</td>\n",
              "      <td>122</td>\n",
              "      <td>115</td>\n",
              "    </tr>\n",
              "    <tr>\n",
              "      <th>yearsOpen</th>\n",
              "      <td>60</td>\n",
              "      <td>44</td>\n",
              "      <td>36</td>\n",
              "      <td>81</td>\n",
              "      <td>49</td>\n",
              "    </tr>\n",
              "    <tr>\n",
              "      <th>averageSnowfall</th>\n",
              "      <td>669</td>\n",
              "      <td>350</td>\n",
              "      <td>69</td>\n",
              "      <td>260</td>\n",
              "      <td>250</td>\n",
              "    </tr>\n",
              "    <tr>\n",
              "      <th>AdultWeekend</th>\n",
              "      <td>85</td>\n",
              "      <td>53</td>\n",
              "      <td>34</td>\n",
              "      <td>89</td>\n",
              "      <td>78</td>\n",
              "    </tr>\n",
              "    <tr>\n",
              "      <th>projectedDaysOpen</th>\n",
              "      <td>150</td>\n",
              "      <td>90</td>\n",
              "      <td>152</td>\n",
              "      <td>122</td>\n",
              "      <td>104</td>\n",
              "    </tr>\n",
              "    <tr>\n",
              "      <th>NightSkiing_ac</th>\n",
              "      <td>550</td>\n",
              "      <td>NaN</td>\n",
              "      <td>30</td>\n",
              "      <td>NaN</td>\n",
              "      <td>80</td>\n",
              "    </tr>\n",
              "    <tr>\n",
              "      <th>resorts_per_state</th>\n",
              "      <td>3</td>\n",
              "      <td>3</td>\n",
              "      <td>3</td>\n",
              "      <td>2</td>\n",
              "      <td>2</td>\n",
              "    </tr>\n",
              "    <tr>\n",
              "      <th>state_total_skiable_area_ac</th>\n",
              "      <td>2280</td>\n",
              "      <td>2280</td>\n",
              "      <td>2280</td>\n",
              "      <td>1577</td>\n",
              "      <td>1577</td>\n",
              "    </tr>\n",
              "    <tr>\n",
              "      <th>state_total_days_open</th>\n",
              "      <td>345</td>\n",
              "      <td>345</td>\n",
              "      <td>345</td>\n",
              "      <td>237</td>\n",
              "      <td>237</td>\n",
              "    </tr>\n",
              "    <tr>\n",
              "      <th>state_total_terrain_parks</th>\n",
              "      <td>4</td>\n",
              "      <td>4</td>\n",
              "      <td>4</td>\n",
              "      <td>6</td>\n",
              "      <td>6</td>\n",
              "    </tr>\n",
              "    <tr>\n",
              "      <th>state_total_nightskiing_ac</th>\n",
              "      <td>580</td>\n",
              "      <td>580</td>\n",
              "      <td>580</td>\n",
              "      <td>80</td>\n",
              "      <td>80</td>\n",
              "    </tr>\n",
              "    <tr>\n",
              "      <th>resorts_per_100kcapita</th>\n",
              "      <td>0.410091</td>\n",
              "      <td>0.410091</td>\n",
              "      <td>0.410091</td>\n",
              "      <td>0.0274774</td>\n",
              "      <td>0.0274774</td>\n",
              "    </tr>\n",
              "    <tr>\n",
              "      <th>resorts_per_100ksq_mile</th>\n",
              "      <td>0.450867</td>\n",
              "      <td>0.450867</td>\n",
              "      <td>0.450867</td>\n",
              "      <td>1.75454</td>\n",
              "      <td>1.75454</td>\n",
              "    </tr>\n",
              "  </tbody>\n",
              "</table>\n",
              "</div>"
            ],
            "text/plain": [
              "                                          0                    1  \\\n",
              "Name                         Alyeska Resort  Eaglecrest Ski Area   \n",
              "Region                               Alaska               Alaska   \n",
              "state                                Alaska               Alaska   \n",
              "summit_elev                            3939                 2600   \n",
              "vertical_drop                          2500                 1540   \n",
              "base_elev                               250                 1200   \n",
              "trams                                     1                    0   \n",
              "fastSixes                                 0                    0   \n",
              "fastQuads                                 2                    0   \n",
              "quad                                      2                    0   \n",
              "triple                                    0                    0   \n",
              "double                                    0                    4   \n",
              "surface                                   2                    0   \n",
              "total_chairs                              7                    4   \n",
              "Runs                                     76                   36   \n",
              "TerrainParks                              2                    1   \n",
              "LongestRun_mi                             1                    2   \n",
              "SkiableTerrain_ac                      1610                  640   \n",
              "Snow Making_ac                          113                   60   \n",
              "daysOpenLastYear                        150                   45   \n",
              "yearsOpen                                60                   44   \n",
              "averageSnowfall                         669                  350   \n",
              "AdultWeekend                             85                   53   \n",
              "projectedDaysOpen                       150                   90   \n",
              "NightSkiing_ac                          550                  NaN   \n",
              "resorts_per_state                         3                    3   \n",
              "state_total_skiable_area_ac            2280                 2280   \n",
              "state_total_days_open                   345                  345   \n",
              "state_total_terrain_parks                 4                    4   \n",
              "state_total_nightskiing_ac              580                  580   \n",
              "resorts_per_100kcapita             0.410091             0.410091   \n",
              "resorts_per_100ksq_mile            0.450867             0.450867   \n",
              "\n",
              "                                            2                 3  \\\n",
              "Name                         Hilltop Ski Area  Arizona Snowbowl   \n",
              "Region                                 Alaska           Arizona   \n",
              "state                                  Alaska           Arizona   \n",
              "summit_elev                              2090             11500   \n",
              "vertical_drop                             294              2300   \n",
              "base_elev                                1796              9200   \n",
              "trams                                       0                 0   \n",
              "fastSixes                                   0                 1   \n",
              "fastQuads                                   0                 0   \n",
              "quad                                        0                 2   \n",
              "triple                                      1                 2   \n",
              "double                                      0                 1   \n",
              "surface                                     2                 2   \n",
              "total_chairs                                3                 8   \n",
              "Runs                                       13                55   \n",
              "TerrainParks                                1                 4   \n",
              "LongestRun_mi                               1                 2   \n",
              "SkiableTerrain_ac                          30               777   \n",
              "Snow Making_ac                             30               104   \n",
              "daysOpenLastYear                          150               122   \n",
              "yearsOpen                                  36                81   \n",
              "averageSnowfall                            69               260   \n",
              "AdultWeekend                               34                89   \n",
              "projectedDaysOpen                         152               122   \n",
              "NightSkiing_ac                             30               NaN   \n",
              "resorts_per_state                           3                 2   \n",
              "state_total_skiable_area_ac              2280              1577   \n",
              "state_total_days_open                     345               237   \n",
              "state_total_terrain_parks                   4                 6   \n",
              "state_total_nightskiing_ac                580                80   \n",
              "resorts_per_100kcapita               0.410091         0.0274774   \n",
              "resorts_per_100ksq_mile              0.450867           1.75454   \n",
              "\n",
              "                                               4  \n",
              "Name                         Sunrise Park Resort  \n",
              "Region                                   Arizona  \n",
              "state                                    Arizona  \n",
              "summit_elev                                11100  \n",
              "vertical_drop                               1800  \n",
              "base_elev                                   9200  \n",
              "trams                                          0  \n",
              "fastSixes                                      0  \n",
              "fastQuads                                      1  \n",
              "quad                                           2  \n",
              "triple                                         3  \n",
              "double                                         1  \n",
              "surface                                        0  \n",
              "total_chairs                                   7  \n",
              "Runs                                          65  \n",
              "TerrainParks                                   2  \n",
              "LongestRun_mi                                1.2  \n",
              "SkiableTerrain_ac                            800  \n",
              "Snow Making_ac                                80  \n",
              "daysOpenLastYear                             115  \n",
              "yearsOpen                                     49  \n",
              "averageSnowfall                              250  \n",
              "AdultWeekend                                  78  \n",
              "projectedDaysOpen                            104  \n",
              "NightSkiing_ac                                80  \n",
              "resorts_per_state                              2  \n",
              "state_total_skiable_area_ac                 1577  \n",
              "state_total_days_open                        237  \n",
              "state_total_terrain_parks                      6  \n",
              "state_total_nightskiing_ac                    80  \n",
              "resorts_per_100kcapita                 0.0274774  \n",
              "resorts_per_100ksq_mile                  1.75454  "
            ]
          },
          "execution_count": 48,
          "metadata": {},
          "output_type": "execute_result"
        }
      ],
      "source": [
        "# DataFrame's merge method provides SQL-like joins\n",
        "# here 'state' is a column (not an index)\n",
        "ski_data = ski_data.merge(state_summary, how='left', on='state')\n",
        "ski_data.head().T"
      ]
    },
    {
      "cell_type": "markdown",
      "metadata": {
        "id": "zLOGLMsvAZCw"
      },
      "source": [
        "Having merged your state summary features into the ski resort data, add \"state resort competition\" features:\n",
        "\n",
        "* ratio of resort skiable area to total state skiable area\n",
        "* ratio of resort days open to total state days open\n",
        "* ratio of resort terrain park count to total state terrain park count\n",
        "* ratio of resort night skiing area to total state night skiing area\n",
        "\n",
        "Once you've derived these features to put each resort within the context of its state,drop those state columns. Their main purpose was to understand what share of states' skiing \"assets\" is accounted for by each resort."
      ]
    },
    {
      "cell_type": "code",
      "execution_count": null,
      "metadata": {
        "id": "bY1KK7oPAZCw"
      },
      "outputs": [],
      "source": [
        "ski_data['resort_skiable_area_ac_state_ratio'] = ski_data.SkiableTerrain_ac / ski_data.state_total_skiable_area_ac\n",
        "ski_data['resort_days_open_state_ratio'] = ski_data.daysOpenLastYear / ski_data.state_total_days_open\n",
        "ski_data['resort_terrain_park_state_ratio'] = ski_data.TerrainParks / ski_data.state_total_terrain_parks\n",
        "ski_data['resort_night_skiing_state_ratio'] = ski_data.NightSkiing_ac / ski_data.state_total_nightskiing_ac\n",
        "\n",
        "ski_data.drop(columns=['state_total_skiable_area_ac', 'state_total_days_open', \n",
        "                       'state_total_terrain_parks', 'state_total_nightskiing_ac'], inplace=True)"
      ]
    },
    {
      "cell_type": "markdown",
      "metadata": {
        "id": "e_Yz43X0AZCx"
      },
      "source": [
        "#### 3.5.5.2 Feature correlation heatmap<a id='3.5.5.2_Feature_correlation_heatmap'></a>"
      ]
    },
    {
      "cell_type": "markdown",
      "metadata": {
        "id": "pQkRn-jTAZCx"
      },
      "source": [
        "A great way to gain a high level view of relationships amongst the features."
      ]
    },
    {
      "cell_type": "code",
      "execution_count": null,
      "metadata": {
        "id": "sNE0EcZkAZCy"
      },
      "outputs": [],
      "source": [
        "#Code task 12#\n",
        "#Show a seaborn heatmap of correlations in ski_data\n",
        "#Hint: call pandas' `corr()` method on `ski_data` and pass that into `sns.heatmap`\n",
        "plt.subplots(figsize=(12,10))\n",
        "sns.___(ski_data.___);"
      ]
    },
    {
      "cell_type": "markdown",
      "metadata": {
        "id": "SwAVAmBgAZCy"
      },
      "source": [
        "There is a lot to take away from this. First, summit and base elevation are quite highly correlated. This isn't a surprise. You can also see that you've introduced a lot of multicollinearity with your new ratio features; they are negatively correlated with the number of resorts in each state. This latter observation makes sense! If you increase the number of resorts in a state, the share of all the other state features will drop for each. An interesting observation in this region of the heatmap is that there is some positive correlation between the ratio of night skiing area with the number of resorts per capita. In other words, it seems that when resorts are more densely located with population, more night skiing is provided.\n",
        "\n",
        "Turning your attention to your target feature, `AdultWeekend` ticket price, you see quite a few reasonable correlations. `fastQuads` stands out, along with `Runs` and `Snow Making_ac`. The last one is interesting. Visitors would seem to value more guaranteed snow, which would cost in terms of snow making equipment, which would drive prices and costs up. Of the new features, `resort_night_skiing_state_ratio` seems the most correlated with ticket price. If this is true, then perhaps seizing a greater share of night skiing capacity is positive for the price a resort can charge.\n",
        "\n",
        "As well as `Runs`, `total_chairs` is quite well correlated with ticket price. This is plausible; the more runs you have, the more chairs you'd need to ferry people to them! Interestingly, they may count for more than the total skiable terrain area. For sure, the total skiable terrain area is not as useful as the area with snow making. People seem to put more value in guaranteed snow cover rather than more variable terrain area.\n",
        "\n",
        "The vertical drop seems to be a selling point that raises ticket prices as well."
      ]
    },
    {
      "cell_type": "markdown",
      "metadata": {
        "id": "wPeiueWJAZCz"
      },
      "source": [
        "#### 3.5.5.3 Scatterplots of numeric features against ticket price<a id='3.5.5.3_Scatterplots_of_numeric_features_against_ticket_price'></a>"
      ]
    },
    {
      "cell_type": "markdown",
      "metadata": {
        "id": "wDZzPmOYAZCz"
      },
      "source": [
        "Correlations, particularly viewing them together as a heatmap, can be a great first pass at identifying patterns. But correlation can mask relationships between two variables. You'll now create a series of scatterplots to really dive into how ticket price varies with other numeric features."
      ]
    },
    {
      "cell_type": "code",
      "execution_count": null,
      "metadata": {
        "id": "yWRrIXgEAZCz"
      },
      "outputs": [],
      "source": [
        "# define useful function to create scatterplots of ticket prices against desired columns\n",
        "def scatterplots(columns, ncol=None, figsize=(15, 8)):\n",
        "    if ncol is None:\n",
        "        ncol = len(columns)\n",
        "    nrow = int(np.ceil(len(columns) / ncol))\n",
        "    fig, axes = plt.subplots(nrow, ncol, figsize=figsize, squeeze=False)\n",
        "    fig.subplots_adjust(wspace=0.5, hspace=0.6)\n",
        "    for i, col in enumerate(columns):\n",
        "        ax = axes.flatten()[i]\n",
        "        ax.scatter(x = col, y = 'AdultWeekend', data=ski_data, alpha=0.5)\n",
        "        ax.set(xlabel=col, ylabel='Ticket price')\n",
        "    nsubplots = nrow * ncol    \n",
        "    for empty in range(i+1, nsubplots):\n",
        "        axes.flatten()[empty].set_visible(False)"
      ]
    },
    {
      "cell_type": "code",
      "execution_count": null,
      "metadata": {
        "id": "0YXzJRbWAZC0"
      },
      "outputs": [],
      "source": [
        "#Code task 13#\n",
        "#Use a list comprehension to build a list of features from the columns of `ski_data` that\n",
        "#are _not_ any of 'Name', 'Region', 'state', or 'AdultWeekend'\n",
        "features = [___ for ___ in ski_data.columns if ___ not in [___, ___, ___, ___]]"
      ]
    },
    {
      "cell_type": "code",
      "execution_count": null,
      "metadata": {
        "id": "XaPB3r8CAZC0",
        "outputId": "0642d86d-aed5-4c8b-fd72-eb956155e99c"
      },
      "outputs": [
        {
          "data": {
            "image/png": "[encoded data removed]",
            "text/plain": [
              "<Figure size 1080x1080 with 28 Axes>"
            ]
          },
          "metadata": {
            "needs_background": "light"
          },
          "output_type": "display_data"
        }
      ],
      "source": [
        "scatterplots(features, ncol=4, figsize=(15, 15))"
      ]
    },
    {
      "cell_type": "markdown",
      "metadata": {
        "id": "QYITFGa-AZC1"
      },
      "source": [
        "In the scatterplots you see what some of the high correlations were clearly picking up on. There's a strong positive correlation with `vertical_drop`. `fastQuads` seems very useful. `Runs` and `total_chairs` appear quite similar and also useful. `resorts_per_100kcapita` shows something interesting that you don't see from just a headline correlation figure. When the value is low, there is quite a variability in ticket price, although it's capable of going quite high. Ticket price may drop a little before then climbing upwards as the number of resorts per capita increases. Ticket price could climb with the number of resorts serving a population because it indicates a popular area for skiing with plenty of demand. The lower ticket price when fewer resorts serve a population may similarly be because it's a less popular state for skiing. The high price for some resorts when resorts are rare (relative to the population size) may indicate areas where a small number of resorts can benefit from a monopoly effect. It's not a clear picture, although we have some interesting signs."
      ]
    },
    {
      "cell_type": "markdown",
      "metadata": {
        "id": "4SUF0uMTAZC1"
      },
      "source": [
        "Finally, think of some further features that may be useful in that they relate to how easily a resort can transport people around. You have the numbers of various chairs, and the number of runs, but you don't have the ratio of chairs to runs. It seems logical that this ratio would inform you how easily, and so quickly, people could get to their next ski slope! Create these features now."
      ]
    },
    {
      "cell_type": "code",
      "execution_count": null,
      "metadata": {
        "id": "vgpAPqGnAZC2"
      },
      "outputs": [],
      "source": [
        "ski_data['total_chairs_runs_ratio'] = ski_data.total_chairs / ski_data.Runs\n",
        "ski_data['total_chairs_skiable_ratio'] = ski_data.total_chairs / ski_data.SkiableTerrain_ac\n",
        "ski_data['fastQuads_runs_ratio'] = ski_data.fastQuads / ski_data.Runs\n",
        "ski_data['fastQuads_skiable_ratio'] = ski_data.fastQuads / ski_data.SkiableTerrain_ac"
      ]
    },
    {
      "cell_type": "code",
      "execution_count": null,
      "metadata": {
        "id": "HIHicMcUAZC2",
        "outputId": "8da72d77-b9a5-4661-88a2-084f92439cda"
      },
      "outputs": [
        {
          "data": {
            "image/png": "[encoded data removed]",
            "text/plain": [
              "<Figure size 1080x576 with 4 Axes>"
            ]
          },
          "metadata": {
            "needs_background": "light"
          },
          "output_type": "display_data"
        }
      ],
      "source": [
        "scatterplots(['total_chairs_runs_ratio', 'total_chairs_skiable_ratio', \n",
        "              'fastQuads_runs_ratio', 'fastQuads_skiable_ratio'], ncol=2)"
      ]
    },
    {
      "cell_type": "markdown",
      "metadata": {
        "id": "vTSBCOwCAZC3"
      },
      "source": [
        "At first these relationships are quite counterintuitive. It seems that the more chairs a resort has to move people around, relative to the number of runs, ticket price rapidly plummets and stays low. What we may be seeing here is an exclusive vs. mass market resort effect; if you don't have so many chairs, you can charge more for your tickets, although with fewer chairs you're inevitably going to be able to serve fewer visitors. Your price per visitor is high but your number of visitors may be low. Something very useful that's missing from the data is the number of visitors per year.\n",
        "\n",
        "It also appears that having no fast quads may limit the ticket price, but if your resort covers a wide area then getting a small number of fast quads may be beneficial to ticket price."
      ]
    },
    {
      "cell_type": "markdown",
      "metadata": {
        "id": "E5CFfcXyAZC3"
      },
      "source": [
        "## 3.6 Summary<a id='3.6_Summary'></a>"
      ]
    },
    {
      "cell_type": "markdown",
      "metadata": {
        "id": "-WlWr-VAAZC4"
      },
      "source": [
        "**Q: 1** Write a summary of the exploratory data analysis above. What numerical or categorical features were in the data? Was there any pattern suggested of a relationship between state and ticket price? What did this lead us to decide regarding which features to use in subsequent modeling? What aspects of the data (e.g. relationships between features) should you remain wary of when you come to perform feature selection for modeling? Two key points that must be addressed are the choice of target feature for your modelling and how, if at all, you're going to handle the states labels in the data."
      ]
    },
    {
      "cell_type": "markdown",
      "metadata": {
        "id": "JwghYE8mAZC4"
      },
      "source": [
        "**A: 1** Your answer here"
      ]
    },
    {
      "cell_type": "code",
      "execution_count": null,
      "metadata": {
        "id": "-u6tPgENAZC5",
        "outputId": "9b4c2510-55d3-4e48-a8da-92e7cebc8d3f"
      },
      "outputs": [
        {
          "data": {
            "text/html": [
              "<div>\n",
              "<style scoped>\n",
              "    .dataframe tbody tr th:only-of-type {\n",
              "        vertical-align: middle;\n",
              "    }\n",
              "\n",
              "    .dataframe tbody tr th {\n",
              "        vertical-align: top;\n",
              "    }\n",
              "\n",
              "    .dataframe thead th {\n",
              "        text-align: right;\n",
              "    }\n",
              "</style>\n",
              "<table border=\"1\" class=\"dataframe\">\n",
              "  <thead>\n",
              "    <tr style=\"text-align: right;\">\n",
              "      <th></th>\n",
              "      <th>0</th>\n",
              "      <th>1</th>\n",
              "      <th>2</th>\n",
              "      <th>3</th>\n",
              "      <th>4</th>\n",
              "    </tr>\n",
              "  </thead>\n",
              "  <tbody>\n",
              "    <tr>\n",
              "      <th>Name</th>\n",
              "      <td>Alyeska Resort</td>\n",
              "      <td>Eaglecrest Ski Area</td>\n",
              "      <td>Hilltop Ski Area</td>\n",
              "      <td>Arizona Snowbowl</td>\n",
              "      <td>Sunrise Park Resort</td>\n",
              "    </tr>\n",
              "    <tr>\n",
              "      <th>Region</th>\n",
              "      <td>Alaska</td>\n",
              "      <td>Alaska</td>\n",
              "      <td>Alaska</td>\n",
              "      <td>Arizona</td>\n",
              "      <td>Arizona</td>\n",
              "    </tr>\n",
              "    <tr>\n",
              "      <th>state</th>\n",
              "      <td>Alaska</td>\n",
              "      <td>Alaska</td>\n",
              "      <td>Alaska</td>\n",
              "      <td>Arizona</td>\n",
              "      <td>Arizona</td>\n",
              "    </tr>\n",
              "    <tr>\n",
              "      <th>summit_elev</th>\n",
              "      <td>3939</td>\n",
              "      <td>2600</td>\n",
              "      <td>2090</td>\n",
              "      <td>11500</td>\n",
              "      <td>11100</td>\n",
              "    </tr>\n",
              "    <tr>\n",
              "      <th>vertical_drop</th>\n",
              "      <td>2500</td>\n",
              "      <td>1540</td>\n",
              "      <td>294</td>\n",
              "      <td>2300</td>\n",
              "      <td>1800</td>\n",
              "    </tr>\n",
              "    <tr>\n",
              "      <th>base_elev</th>\n",
              "      <td>250</td>\n",
              "      <td>1200</td>\n",
              "      <td>1796</td>\n",
              "      <td>9200</td>\n",
              "      <td>9200</td>\n",
              "    </tr>\n",
              "    <tr>\n",
              "      <th>trams</th>\n",
              "      <td>1</td>\n",
              "      <td>0</td>\n",
              "      <td>0</td>\n",
              "      <td>0</td>\n",
              "      <td>0</td>\n",
              "    </tr>\n",
              "    <tr>\n",
              "      <th>fastSixes</th>\n",
              "      <td>0</td>\n",
              "      <td>0</td>\n",
              "      <td>0</td>\n",
              "      <td>1</td>\n",
              "      <td>0</td>\n",
              "    </tr>\n",
              "    <tr>\n",
              "      <th>fastQuads</th>\n",
              "      <td>2</td>\n",
              "      <td>0</td>\n",
              "      <td>0</td>\n",
              "      <td>0</td>\n",
              "      <td>1</td>\n",
              "    </tr>\n",
              "    <tr>\n",
              "      <th>quad</th>\n",
              "      <td>2</td>\n",
              "      <td>0</td>\n",
              "      <td>0</td>\n",
              "      <td>2</td>\n",
              "      <td>2</td>\n",
              "    </tr>\n",
              "    <tr>\n",
              "      <th>triple</th>\n",
              "      <td>0</td>\n",
              "      <td>0</td>\n",
              "      <td>1</td>\n",
              "      <td>2</td>\n",
              "      <td>3</td>\n",
              "    </tr>\n",
              "    <tr>\n",
              "      <th>double</th>\n",
              "      <td>0</td>\n",
              "      <td>4</td>\n",
              "      <td>0</td>\n",
              "      <td>1</td>\n",
              "      <td>1</td>\n",
              "    </tr>\n",
              "    <tr>\n",
              "      <th>surface</th>\n",
              "      <td>2</td>\n",
              "      <td>0</td>\n",
              "      <td>2</td>\n",
              "      <td>2</td>\n",
              "      <td>0</td>\n",
              "    </tr>\n",
              "    <tr>\n",
              "      <th>total_chairs</th>\n",
              "      <td>7</td>\n",
              "      <td>4</td>\n",
              "      <td>3</td>\n",
              "      <td>8</td>\n",
              "      <td>7</td>\n",
              "    </tr>\n",
              "    <tr>\n",
              "      <th>Runs</th>\n",
              "      <td>76</td>\n",
              "      <td>36</td>\n",
              "      <td>13</td>\n",
              "      <td>55</td>\n",
              "      <td>65</td>\n",
              "    </tr>\n",
              "    <tr>\n",
              "      <th>TerrainParks</th>\n",
              "      <td>2</td>\n",
              "      <td>1</td>\n",
              "      <td>1</td>\n",
              "      <td>4</td>\n",
              "      <td>2</td>\n",
              "    </tr>\n",
              "    <tr>\n",
              "      <th>LongestRun_mi</th>\n",
              "      <td>1</td>\n",
              "      <td>2</td>\n",
              "      <td>1</td>\n",
              "      <td>2</td>\n",
              "      <td>1.2</td>\n",
              "    </tr>\n",
              "    <tr>\n",
              "      <th>SkiableTerrain_ac</th>\n",
              "      <td>1610</td>\n",
              "      <td>640</td>\n",
              "      <td>30</td>\n",
              "      <td>777</td>\n",
              "      <td>800</td>\n",
              "    </tr>\n",
              "    <tr>\n",
              "      <th>Snow Making_ac</th>\n",
              "      <td>113</td>\n",
              "      <td>60</td>\n",
              "      <td>30</td>\n",
              "      <td>104</td>\n",
              "      <td>80</td>\n",
              "    </tr>\n",
              "    <tr>\n",
              "      <th>daysOpenLastYear</th>\n",
              "      <td>150</td>\n",
              "      <td>45</td>\n",
              "      <td>150</td>\n",
              "      <td>122</td>\n",
              "      <td>115</td>\n",
              "    </tr>\n",
              "    <tr>\n",
              "      <th>yearsOpen</th>\n",
              "      <td>60</td>\n",
              "      <td>44</td>\n",
              "      <td>36</td>\n",
              "      <td>81</td>\n",
              "      <td>49</td>\n",
              "    </tr>\n",
              "    <tr>\n",
              "      <th>averageSnowfall</th>\n",
              "      <td>669</td>\n",
              "      <td>350</td>\n",
              "      <td>69</td>\n",
              "      <td>260</td>\n",
              "      <td>250</td>\n",
              "    </tr>\n",
              "    <tr>\n",
              "      <th>AdultWeekend</th>\n",
              "      <td>85</td>\n",
              "      <td>53</td>\n",
              "      <td>34</td>\n",
              "      <td>89</td>\n",
              "      <td>78</td>\n",
              "    </tr>\n",
              "    <tr>\n",
              "      <th>projectedDaysOpen</th>\n",
              "      <td>150</td>\n",
              "      <td>90</td>\n",
              "      <td>152</td>\n",
              "      <td>122</td>\n",
              "      <td>104</td>\n",
              "    </tr>\n",
              "    <tr>\n",
              "      <th>NightSkiing_ac</th>\n",
              "      <td>550</td>\n",
              "      <td>NaN</td>\n",
              "      <td>30</td>\n",
              "      <td>NaN</td>\n",
              "      <td>80</td>\n",
              "    </tr>\n",
              "    <tr>\n",
              "      <th>resorts_per_state</th>\n",
              "      <td>3</td>\n",
              "      <td>3</td>\n",
              "      <td>3</td>\n",
              "      <td>2</td>\n",
              "      <td>2</td>\n",
              "    </tr>\n",
              "    <tr>\n",
              "      <th>resorts_per_100kcapita</th>\n",
              "      <td>0.410091</td>\n",
              "      <td>0.410091</td>\n",
              "      <td>0.410091</td>\n",
              "      <td>0.0274774</td>\n",
              "      <td>0.0274774</td>\n",
              "    </tr>\n",
              "    <tr>\n",
              "      <th>resorts_per_100ksq_mile</th>\n",
              "      <td>0.450867</td>\n",
              "      <td>0.450867</td>\n",
              "      <td>0.450867</td>\n",
              "      <td>1.75454</td>\n",
              "      <td>1.75454</td>\n",
              "    </tr>\n",
              "    <tr>\n",
              "      <th>resort_skiable_area_ac_state_ratio</th>\n",
              "      <td>0.70614</td>\n",
              "      <td>0.280702</td>\n",
              "      <td>0.0131579</td>\n",
              "      <td>0.492708</td>\n",
              "      <td>0.507292</td>\n",
              "    </tr>\n",
              "    <tr>\n",
              "      <th>resort_days_open_state_ratio</th>\n",
              "      <td>0.434783</td>\n",
              "      <td>0.130435</td>\n",
              "      <td>0.434783</td>\n",
              "      <td>0.514768</td>\n",
              "      <td>0.485232</td>\n",
              "    </tr>\n",
              "    <tr>\n",
              "      <th>resort_terrain_park_state_ratio</th>\n",
              "      <td>0.5</td>\n",
              "      <td>0.25</td>\n",
              "      <td>0.25</td>\n",
              "      <td>0.666667</td>\n",
              "      <td>0.333333</td>\n",
              "    </tr>\n",
              "    <tr>\n",
              "      <th>resort_night_skiing_state_ratio</th>\n",
              "      <td>0.948276</td>\n",
              "      <td>NaN</td>\n",
              "      <td>0.0517241</td>\n",
              "      <td>NaN</td>\n",
              "      <td>1</td>\n",
              "    </tr>\n",
              "    <tr>\n",
              "      <th>total_chairs_runs_ratio</th>\n",
              "      <td>0.0921053</td>\n",
              "      <td>0.111111</td>\n",
              "      <td>0.230769</td>\n",
              "      <td>0.145455</td>\n",
              "      <td>0.107692</td>\n",
              "    </tr>\n",
              "    <tr>\n",
              "      <th>total_chairs_skiable_ratio</th>\n",
              "      <td>0.00434783</td>\n",
              "      <td>0.00625</td>\n",
              "      <td>0.1</td>\n",
              "      <td>0.010296</td>\n",
              "      <td>0.00875</td>\n",
              "    </tr>\n",
              "    <tr>\n",
              "      <th>fastQuads_runs_ratio</th>\n",
              "      <td>0.0263158</td>\n",
              "      <td>0</td>\n",
              "      <td>0</td>\n",
              "      <td>0</td>\n",
              "      <td>0.0153846</td>\n",
              "    </tr>\n",
              "    <tr>\n",
              "      <th>fastQuads_skiable_ratio</th>\n",
              "      <td>0.00124224</td>\n",
              "      <td>0</td>\n",
              "      <td>0</td>\n",
              "      <td>0</td>\n",
              "      <td>0.00125</td>\n",
              "    </tr>\n",
              "  </tbody>\n",
              "</table>\n",
              "</div>"
            ],
            "text/plain": [
              "                                                 0                    1  \\\n",
              "Name                                Alyeska Resort  Eaglecrest Ski Area   \n",
              "Region                                      Alaska               Alaska   \n",
              "state                                       Alaska               Alaska   \n",
              "summit_elev                                   3939                 2600   \n",
              "vertical_drop                                 2500                 1540   \n",
              "base_elev                                      250                 1200   \n",
              "trams                                            1                    0   \n",
              "fastSixes                                        0                    0   \n",
              "fastQuads                                        2                    0   \n",
              "quad                                             2                    0   \n",
              "triple                                           0                    0   \n",
              "double                                           0                    4   \n",
              "surface                                          2                    0   \n",
              "total_chairs                                     7                    4   \n",
              "Runs                                            76                   36   \n",
              "TerrainParks                                     2                    1   \n",
              "LongestRun_mi                                    1                    2   \n",
              "SkiableTerrain_ac                             1610                  640   \n",
              "Snow Making_ac                                 113                   60   \n",
              "daysOpenLastYear                               150                   45   \n",
              "yearsOpen                                       60                   44   \n",
              "averageSnowfall                                669                  350   \n",
              "AdultWeekend                                    85                   53   \n",
              "projectedDaysOpen                              150                   90   \n",
              "NightSkiing_ac                                 550                  NaN   \n",
              "resorts_per_state                                3                    3   \n",
              "resorts_per_100kcapita                    0.410091             0.410091   \n",
              "resorts_per_100ksq_mile                   0.450867             0.450867   \n",
              "resort_skiable_area_ac_state_ratio         0.70614             0.280702   \n",
              "resort_days_open_state_ratio              0.434783             0.130435   \n",
              "resort_terrain_park_state_ratio                0.5                 0.25   \n",
              "resort_night_skiing_state_ratio           0.948276                  NaN   \n",
              "total_chairs_runs_ratio                  0.0921053             0.111111   \n",
              "total_chairs_skiable_ratio              0.00434783              0.00625   \n",
              "fastQuads_runs_ratio                     0.0263158                    0   \n",
              "fastQuads_skiable_ratio                 0.00124224                    0   \n",
              "\n",
              "                                                   2                 3  \\\n",
              "Name                                Hilltop Ski Area  Arizona Snowbowl   \n",
              "Region                                        Alaska           Arizona   \n",
              "state                                         Alaska           Arizona   \n",
              "summit_elev                                     2090             11500   \n",
              "vertical_drop                                    294              2300   \n",
              "base_elev                                       1796              9200   \n",
              "trams                                              0                 0   \n",
              "fastSixes                                          0                 1   \n",
              "fastQuads                                          0                 0   \n",
              "quad                                               0                 2   \n",
              "triple                                             1                 2   \n",
              "double                                             0                 1   \n",
              "surface                                            2                 2   \n",
              "total_chairs                                       3                 8   \n",
              "Runs                                              13                55   \n",
              "TerrainParks                                       1                 4   \n",
              "LongestRun_mi                                      1                 2   \n",
              "SkiableTerrain_ac                                 30               777   \n",
              "Snow Making_ac                                    30               104   \n",
              "daysOpenLastYear                                 150               122   \n",
              "yearsOpen                                         36                81   \n",
              "averageSnowfall                                   69               260   \n",
              "AdultWeekend                                      34                89   \n",
              "projectedDaysOpen                                152               122   \n",
              "NightSkiing_ac                                    30               NaN   \n",
              "resorts_per_state                                  3                 2   \n",
              "resorts_per_100kcapita                      0.410091         0.0274774   \n",
              "resorts_per_100ksq_mile                     0.450867           1.75454   \n",
              "resort_skiable_area_ac_state_ratio         0.0131579          0.492708   \n",
              "resort_days_open_state_ratio                0.434783          0.514768   \n",
              "resort_terrain_park_state_ratio                 0.25          0.666667   \n",
              "resort_night_skiing_state_ratio            0.0517241               NaN   \n",
              "total_chairs_runs_ratio                     0.230769          0.145455   \n",
              "total_chairs_skiable_ratio                       0.1          0.010296   \n",
              "fastQuads_runs_ratio                               0                 0   \n",
              "fastQuads_skiable_ratio                            0                 0   \n",
              "\n",
              "                                                      4  \n",
              "Name                                Sunrise Park Resort  \n",
              "Region                                          Arizona  \n",
              "state                                           Arizona  \n",
              "summit_elev                                       11100  \n",
              "vertical_drop                                      1800  \n",
              "base_elev                                          9200  \n",
              "trams                                                 0  \n",
              "fastSixes                                             0  \n",
              "fastQuads                                             1  \n",
              "quad                                                  2  \n",
              "triple                                                3  \n",
              "double                                                1  \n",
              "surface                                               0  \n",
              "total_chairs                                          7  \n",
              "Runs                                                 65  \n",
              "TerrainParks                                          2  \n",
              "LongestRun_mi                                       1.2  \n",
              "SkiableTerrain_ac                                   800  \n",
              "Snow Making_ac                                       80  \n",
              "daysOpenLastYear                                    115  \n",
              "yearsOpen                                            49  \n",
              "averageSnowfall                                     250  \n",
              "AdultWeekend                                         78  \n",
              "projectedDaysOpen                                   104  \n",
              "NightSkiing_ac                                       80  \n",
              "resorts_per_state                                     2  \n",
              "resorts_per_100kcapita                        0.0274774  \n",
              "resorts_per_100ksq_mile                         1.75454  \n",
              "resort_skiable_area_ac_state_ratio             0.507292  \n",
              "resort_days_open_state_ratio                   0.485232  \n",
              "resort_terrain_park_state_ratio                0.333333  \n",
              "resort_night_skiing_state_ratio                       1  \n",
              "total_chairs_runs_ratio                        0.107692  \n",
              "total_chairs_skiable_ratio                      0.00875  \n",
              "fastQuads_runs_ratio                          0.0153846  \n",
              "fastQuads_skiable_ratio                         0.00125  "
            ]
          },
          "execution_count": 56,
          "metadata": {},
          "output_type": "execute_result"
        }
      ],
      "source": [
        "ski_data.head().T"
      ]
    },
    {
      "cell_type": "code",
      "execution_count": null,
      "metadata": {
        "id": "mbN5MxIXAZC5"
      },
      "outputs": [],
      "source": [
        "# Save the data \n",
        "\n",
        "datapath = '../data'\n",
        "save_file(ski_data, 'ski_data_step3_features.csv', datapath)"
      ]
    }
  ],
  "metadata": {
    "kernelspec": {
      "display_name": "Python 3",
      "language": "python",
      "name": "python3"
    },
    "language_info": {
      "codemirror_mode": {
        "name": "ipython",
        "version": 3
      },
      "file_extension": ".py",
      "mimetype": "text/x-python",
      "name": "python",
      "nbconvert_exporter": "python",
      "pygments_lexer": "ipython3",
      "version": "3.7.9"
    },
    "toc": {
      "base_numbering": 1,
      "nav_menu": {},
      "number_sections": true,
      "sideBar": true,
      "skip_h1_title": false,
      "title_cell": "Table of Contents",
      "title_sidebar": "Contents",
      "toc_cell": false,
      "toc_position": {},
      "toc_section_display": true,
      "toc_window_display": false
    },
    "varInspector": {
      "cols": {
        "lenName": 16,
        "lenType": 16,
        "lenVar": 40
      },
      "kernels_config": {
        "python": {
          "delete_cmd_postfix": "",
          "delete_cmd_prefix": "del ",
          "library": "var_list.py",
          "varRefreshCmd": "print(var_dic_list())"
        },
        "r": {
          "delete_cmd_postfix": ") ",
          "delete_cmd_prefix": "rm(",
          "library": "var_list.r",
          "varRefreshCmd": "cat(var_dic_list()) "
        }
      },
      "types_to_exclude": [
        "module",
        "function",
        "builtin_function_or_method",
        "instance",
        "_Feature"
      ],
      "window_display": false
    },
    "colab": {
      "provenance": [],
      "toc_visible": true,
      "include_colab_link": true
    }
  },
  "nbformat": 4,
  "nbformat_minor": 0
}